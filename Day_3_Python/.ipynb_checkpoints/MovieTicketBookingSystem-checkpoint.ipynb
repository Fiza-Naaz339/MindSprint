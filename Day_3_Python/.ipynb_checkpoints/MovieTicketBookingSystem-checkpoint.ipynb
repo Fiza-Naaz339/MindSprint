{
 "cells": [
  {
   "cell_type": "code",
   "execution_count": 1,
   "id": "a098cfbe-4b6f-4ab4-80d8-763302cb72ed",
   "metadata": {},
   "outputs": [
    {
     "name": "stdout",
     "output_type": "stream",
     "text": [
      "\n",
      "--- Movie Ticket Booking System ---\n",
      "1. Add Movie\n",
      "2. Remove Movie\n",
      "3. Add Theater\n",
      "4. Add Customer\n",
      "5. Book Movie\n",
      "6. Print Details\n",
      "7. Exit\n"
     ]
    },
    {
     "name": "stdin",
     "output_type": "stream",
     "text": [
      "Enter your choice (1-7):  1\n",
      "Enter movie title:  Inception\n",
      "Enter movie genre:  Sci-Fi\n",
      "Enter movie showtime:  7:00 PM\n"
     ]
    },
    {
     "name": "stdout",
     "output_type": "stream",
     "text": [
      "Added movie: Inception\n",
      "\n",
      "--- Movie Ticket Booking System ---\n",
      "1. Add Movie\n",
      "2. Remove Movie\n",
      "3. Add Theater\n",
      "4. Add Customer\n",
      "5. Book Movie\n",
      "6. Print Details\n",
      "7. Exit\n"
     ]
    },
    {
     "name": "stdin",
     "output_type": "stream",
     "text": [
      "Enter your choice (1-7):  1\n",
      "Enter movie title:  The Godfather\n",
      "Enter movie genre:  Crime\n",
      "Enter movie showtime:  5:00 PM\n"
     ]
    },
    {
     "name": "stdout",
     "output_type": "stream",
     "text": [
      "Added movie: The Godfather\n",
      "\n",
      "--- Movie Ticket Booking System ---\n",
      "1. Add Movie\n",
      "2. Remove Movie\n",
      "3. Add Theater\n",
      "4. Add Customer\n",
      "5. Book Movie\n",
      "6. Print Details\n",
      "7. Exit\n"
     ]
    },
    {
     "name": "stdin",
     "output_type": "stream",
     "text": [
      "Enter your choice (1-7):  1\n",
      "Enter movie title:  The Dark Knight\n",
      "Enter movie genre:  Action\n",
      "Enter movie showtime:  9:00 PM\n"
     ]
    },
    {
     "name": "stdout",
     "output_type": "stream",
     "text": [
      "Added movie: The Dark Knight\n",
      "\n",
      "--- Movie Ticket Booking System ---\n",
      "1. Add Movie\n",
      "2. Remove Movie\n",
      "3. Add Theater\n",
      "4. Add Customer\n",
      "5. Book Movie\n",
      "6. Print Details\n",
      "7. Exit\n"
     ]
    },
    {
     "name": "stdin",
     "output_type": "stream",
     "text": [
      "Enter your choice (1-7):  3\n",
      "Enter theater name:  Cineplex 1\n"
     ]
    },
    {
     "name": "stdout",
     "output_type": "stream",
     "text": [
      "Added theater: Cineplex 1\n",
      "\n",
      "--- Movie Ticket Booking System ---\n",
      "1. Add Movie\n",
      "2. Remove Movie\n",
      "3. Add Theater\n",
      "4. Add Customer\n",
      "5. Book Movie\n",
      "6. Print Details\n",
      "7. Exit\n"
     ]
    },
    {
     "name": "stdin",
     "output_type": "stream",
     "text": [
      "Enter your choice (1-7):  3\n",
      "Enter theater name:  Cineplex 2\n"
     ]
    },
    {
     "name": "stdout",
     "output_type": "stream",
     "text": [
      "Added theater: Cineplex 2\n",
      "\n",
      "--- Movie Ticket Booking System ---\n",
      "1. Add Movie\n",
      "2. Remove Movie\n",
      "3. Add Theater\n",
      "4. Add Customer\n",
      "5. Book Movie\n",
      "6. Print Details\n",
      "7. Exit\n"
     ]
    },
    {
     "name": "stdin",
     "output_type": "stream",
     "text": [
      "Enter your choice (1-7):  4\n",
      "Enter customer name:  Alice\n"
     ]
    },
    {
     "name": "stdout",
     "output_type": "stream",
     "text": [
      "Added customer: Alice\n",
      "\n",
      "--- Movie Ticket Booking System ---\n",
      "1. Add Movie\n",
      "2. Remove Movie\n",
      "3. Add Theater\n",
      "4. Add Customer\n",
      "5. Book Movie\n",
      "6. Print Details\n",
      "7. Exit\n"
     ]
    },
    {
     "name": "stdin",
     "output_type": "stream",
     "text": [
      "Enter your choice (1-7):  4\n",
      "Enter customer name:  Bob\n"
     ]
    },
    {
     "name": "stdout",
     "output_type": "stream",
     "text": [
      "Added customer: Bob\n",
      "\n",
      "--- Movie Ticket Booking System ---\n",
      "1. Add Movie\n",
      "2. Remove Movie\n",
      "3. Add Theater\n",
      "4. Add Customer\n",
      "5. Book Movie\n",
      "6. Print Details\n",
      "7. Exit\n"
     ]
    },
    {
     "name": "stdin",
     "output_type": "stream",
     "text": [
      "Enter your choice (1-7):  5\n",
      "Enter customer name:  Alice\n",
      "Enter movie title to book:  Inception\n"
     ]
    },
    {
     "name": "stdout",
     "output_type": "stream",
     "text": [
      "Alice booked movie: Inception\n",
      "\n",
      "--- Movie Ticket Booking System ---\n",
      "1. Add Movie\n",
      "2. Remove Movie\n",
      "3. Add Theater\n",
      "4. Add Customer\n",
      "5. Book Movie\n",
      "6. Print Details\n",
      "7. Exit\n"
     ]
    },
    {
     "name": "stdin",
     "output_type": "stream",
     "text": [
      "Enter your choice (1-7):  5\n",
      "Enter customer name:  Bob\n",
      "Enter movie title to book:  The Dark Knight\n"
     ]
    },
    {
     "name": "stdout",
     "output_type": "stream",
     "text": [
      "Bob booked movie: The Dark Knight\n",
      "\n",
      "--- Movie Ticket Booking System ---\n",
      "1. Add Movie\n",
      "2. Remove Movie\n",
      "3. Add Theater\n",
      "4. Add Customer\n",
      "5. Book Movie\n",
      "6. Print Details\n",
      "7. Exit\n"
     ]
    },
    {
     "name": "stdin",
     "output_type": "stream",
     "text": [
      "Enter your choice (1-7):  6\n"
     ]
    },
    {
     "name": "stdout",
     "output_type": "stream",
     "text": [
      "\n",
      "Available Movies:\n",
      "Title: Inception, Genre: Sci-Fi, Showtime: 7:00 PM\n",
      "Title: The Godfather, Genre: Crime, Showtime: 5:00 PM\n",
      "Title: The Dark Knight, Genre: Action, Showtime: 9:00 PM\n",
      "\n",
      "Unique Theaters:\n",
      "Cineplex 1\n",
      "Cineplex 2\n",
      "\n",
      "Ticket Pricing:\n",
      "Standard: $10.0, Premium: $12.0, VIP: $15.0\n",
      "\n",
      "Customer Bookings:\n",
      "Alice: Inception\n",
      "Bob: The Dark Knight\n",
      "\n",
      "--- Movie Ticket Booking System ---\n",
      "1. Add Movie\n",
      "2. Remove Movie\n",
      "3. Add Theater\n",
      "4. Add Customer\n",
      "5. Book Movie\n",
      "6. Print Details\n",
      "7. Exit\n"
     ]
    },
    {
     "name": "stdin",
     "output_type": "stream",
     "text": [
      "Enter your choice (1-7):  2\n",
      "Enter movie title to remove:  The Godfather\n"
     ]
    },
    {
     "name": "stdout",
     "output_type": "stream",
     "text": [
      "Removed movie: The Godfather\n",
      "\n",
      "--- Movie Ticket Booking System ---\n",
      "1. Add Movie\n",
      "2. Remove Movie\n",
      "3. Add Theater\n",
      "4. Add Customer\n",
      "5. Book Movie\n",
      "6. Print Details\n",
      "7. Exit\n"
     ]
    },
    {
     "name": "stdin",
     "output_type": "stream",
     "text": [
      "Enter your choice (1-7):  6\n"
     ]
    },
    {
     "name": "stdout",
     "output_type": "stream",
     "text": [
      "\n",
      "Available Movies:\n",
      "Title: Inception, Genre: Sci-Fi, Showtime: 7:00 PM\n",
      "Title: The Dark Knight, Genre: Action, Showtime: 9:00 PM\n",
      "\n",
      "Unique Theaters:\n",
      "Cineplex 1\n",
      "Cineplex 2\n",
      "\n",
      "Ticket Pricing:\n",
      "Standard: $10.0, Premium: $12.0, VIP: $15.0\n",
      "\n",
      "Customer Bookings:\n",
      "Alice: Inception\n",
      "Bob: The Dark Knight\n",
      "\n",
      "--- Movie Ticket Booking System ---\n",
      "1. Add Movie\n",
      "2. Remove Movie\n",
      "3. Add Theater\n",
      "4. Add Customer\n",
      "5. Book Movie\n",
      "6. Print Details\n",
      "7. Exit\n"
     ]
    },
    {
     "name": "stdin",
     "output_type": "stream",
     "text": [
      "Enter your choice (1-7):  7\n"
     ]
    },
    {
     "name": "stdout",
     "output_type": "stream",
     "text": [
      "Exiting the system. Goodbye!\n"
     ]
    }
   ],
   "source": [
    "class MovieTicketBookingSystem:\n",
    "    def __init__(self):\n",
    "        # List to store available movies\n",
    "        self.movies = []\n",
    "        # Set to store unique theaters\n",
    "        self.theaters = set()\n",
    "        # Tuple to store ticket pricing details\n",
    "        self.ticket_pricing = (10.0, 12.0, 15.0)  # Example prices for different categories\n",
    "        # Dictionary to store customers and their booked movies\n",
    "        self.customers = {}\n",
    "\n",
    "    def add_movie(self, title, genre, showtime):\n",
    "        movie = {\"title\": title, \"genre\": genre, \"showtime\": showtime}\n",
    "        self.movies.append(movie)\n",
    "        print(f\"Added movie: {title}\")\n",
    "\n",
    "    def remove_movie(self, title):\n",
    "        self.movies = [movie for movie in self.movies if movie[\"title\"] != title]\n",
    "        print(f\"Removed movie: {title}\")\n",
    "\n",
    "    def add_theater(self, theater_name):\n",
    "        self.theaters.add(theater_name)\n",
    "        print(f\"Added theater: {theater_name}\")\n",
    "\n",
    "    def add_customer(self, customer_name):\n",
    "        if customer_name not in self.customers:\n",
    "            self.customers[customer_name] = []\n",
    "            print(f\"Added customer: {customer_name}\")\n",
    "        else:\n",
    "            print(f\"Customer {customer_name} already exists.\")\n",
    "\n",
    "    def book_movie(self, customer_name, movie_title):\n",
    "        if customer_name in self.customers:\n",
    "            for movie in self.movies:\n",
    "                if movie[\"title\"] == movie_title:\n",
    "                    self.customers[customer_name].append(movie)\n",
    "                    print(f\"{customer_name} booked movie: {movie_title}\")\n",
    "                    return\n",
    "            print(f\"Movie {movie_title} not found.\")\n",
    "        else:\n",
    "            print(f\"Customer {customer_name} not found.\")\n",
    "\n",
    "    def print_details(self):\n",
    "        print(\"\\nAvailable Movies:\")\n",
    "        for movie in self.movies:\n",
    "            print(f\"Title: {movie['title']}, Genre: {movie['genre']}, Showtime: {movie['showtime']}\")\n",
    "\n",
    "        print(\"\\nUnique Theaters:\")\n",
    "        for theater in self.theaters:\n",
    "            print(theater)\n",
    "\n",
    "        print(\"\\nTicket Pricing:\")\n",
    "        print(f\"Standard: ${self.ticket_pricing[0]}, Premium: ${self.ticket_pricing[1]}, VIP: ${self.ticket_pricing[2]}\")\n",
    "\n",
    "        print(\"\\nCustomer Bookings:\")\n",
    "        for customer, booked_movies in self.customers.items():\n",
    "            movie_titles = [movie[\"title\"] for movie in booked_movies]\n",
    "            print(f\"{customer}: {', '.join(movie_titles) if movie_titles else 'No bookings'}\")\n",
    "\n",
    "\n",
    "def main():\n",
    "    system = MovieTicketBookingSystem()\n",
    "\n",
    "    while True:\n",
    "        print(\"\\n--- Movie Ticket Booking System ---\")\n",
    "        print(\"1. Add Movie\")\n",
    "        print(\"2. Remove Movie\")\n",
    "        print(\"3. Add Theater\")\n",
    "        print(\"4. Add Customer\")\n",
    "        print(\"5. Book Movie\")\n",
    "        print(\"6. Print Details\")\n",
    "        print(\"7. Exit\")\n",
    "\n",
    "        choice = input(\"Enter your choice (1-7): \")\n",
    "\n",
    "        if choice == '1':\n",
    "            title = input(\"Enter movie title: \")\n",
    "            genre = input(\"Enter movie genre: \")\n",
    "            showtime = input(\"Enter movie showtime: \")\n",
    "            system.add_movie(title, genre, showtime)\n",
    "\n",
    "        elif choice == '2':\n",
    "            title = input(\"Enter movie title to remove: \")\n",
    "            system.remove_movie(title)\n",
    "\n",
    "        elif choice == '3':\n",
    "            theater_name = input(\"Enter theater name: \")\n",
    "            system.add_theater(theater_name)\n",
    "\n",
    "        elif choice == '4':\n",
    "            customer_name = input(\"Enter customer name: \")\n",
    "            system.add_customer(customer_name)\n",
    "\n",
    "        elif choice == '5':\n",
    "            customer_name = input(\"Enter customer name: \")\n",
    "            movie_title = input(\"Enter movie title to book: \")\n",
    "            system.book_movie(customer_name, movie_title)\n",
    "\n",
    "        elif choice == '6':\n",
    "            system.print_details()\n",
    "\n",
    "        elif choice == '7':\n",
    "            print(\"Exiting the system. Goodbye!\")\n",
    "            break\n",
    "\n",
    "        else:\n",
    "            print(\"Invalid choice. Please enter a number between 1 and 7.\")\n",
    "\n",
    "\n",
    "if __name__ == \"__main__\":\n",
    "    main()"
   ]
  },
  {
   "cell_type": "code",
   "execution_count": null,
   "id": "5ed5fde6-8ad6-4323-85a7-cd523ea8c11f",
   "metadata": {},
   "outputs": [],
   "source": []
  }
 ],
 "metadata": {
  "kernelspec": {
   "display_name": "Python 3 (ipykernel)",
   "language": "python",
   "name": "python3"
  },
  "language_info": {
   "codemirror_mode": {
    "name": "ipython",
    "version": 3
   },
   "file_extension": ".py",
   "mimetype": "text/x-python",
   "name": "python",
   "nbconvert_exporter": "python",
   "pygments_lexer": "ipython3",
   "version": "3.13.2"
  }
 },
 "nbformat": 4,
 "nbformat_minor": 5
}
