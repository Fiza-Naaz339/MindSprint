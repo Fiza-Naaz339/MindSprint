{
 "cells": [
  {
   "cell_type": "code",
   "execution_count": 2,
   "id": "3d4caa6b-bf9e-4614-9811-21a7225e466b",
   "metadata": {},
   "outputs": [
    {
     "name": "stdout",
     "output_type": "stream",
     "text": [
      "Hi\n"
     ]
    }
   ],
   "source": [
    "print(\"Hi\")"
   ]
  },
  {
   "cell_type": "markdown",
   "id": "fd2b089e-6a27-4e8f-b855-26eb8046389d",
   "metadata": {},
   "source": [
    "# Variables"
   ]
  },
  {
   "cell_type": "code",
   "execution_count": 7,
   "id": "f2d78830-a53b-43a8-b3c0-eac7b421cd0b",
   "metadata": {},
   "outputs": [
    {
     "name": "stdout",
     "output_type": "stream",
     "text": [
      "Interger:  1\n",
      "Float:  20.98\n",
      "Name Fiza\n"
     ]
    }
   ],
   "source": [
    "num1 = 1\n",
    "num2 = 20.98\n",
    "name = \"Fiza\"\n",
    "print(\"Interger: \",num1)\n",
    "print(\"Float: \",num2)\n",
    "print(\"Name\",name)"
   ]
  },
  {
   "cell_type": "code",
   "execution_count": 9,
   "id": "e0117a6e-06f6-4a26-b359-9dfe0c3f0b72",
   "metadata": {},
   "outputs": [],
   "source": [
    "x,y,z = \"Strawberry\",\"Gauva\",\"Blueberry\""
   ]
  },
  {
   "cell_type": "code",
   "execution_count": 10,
   "id": "5ce617c3-8178-4225-b737-d7e3733e9dfa",
   "metadata": {},
   "outputs": [
    {
     "data": {
      "text/plain": [
       "'Strawberry'"
      ]
     },
     "execution_count": 10,
     "metadata": {},
     "output_type": "execute_result"
    }
   ],
   "source": [
    "x"
   ]
  },
  {
   "cell_type": "code",
   "execution_count": 11,
   "id": "78db3a8f-70c9-4a04-a77d-c26193602ec1",
   "metadata": {},
   "outputs": [
    {
     "data": {
      "text/plain": [
       "'Gauva'"
      ]
     },
     "execution_count": 11,
     "metadata": {},
     "output_type": "execute_result"
    }
   ],
   "source": [
    "y"
   ]
  },
  {
   "cell_type": "code",
   "execution_count": 12,
   "id": "22b9be81-139c-4e7e-b2c7-1843a5f09364",
   "metadata": {},
   "outputs": [
    {
     "data": {
      "text/plain": [
       "'Blueberry'"
      ]
     },
     "execution_count": 12,
     "metadata": {},
     "output_type": "execute_result"
    }
   ],
   "source": [
    "z"
   ]
  },
  {
   "cell_type": "code",
   "execution_count": 14,
   "id": "870d860b-4ce7-4b1a-915f-0672d49abc1f",
   "metadata": {},
   "outputs": [
    {
     "name": "stdout",
     "output_type": "stream",
     "text": [
      "Strawberry  Gauva  Blueberry\n"
     ]
    }
   ],
   "source": [
    "print(x,\" \"+y,\" \"+z)"
   ]
  },
  {
   "cell_type": "code",
   "execution_count": 15,
   "id": "7627d3af-8ceb-44b4-9e29-a8fbf6a218ce",
   "metadata": {},
   "outputs": [
    {
     "name": "stdout",
     "output_type": "stream",
     "text": [
      "temp  temp  temp\n"
     ]
    }
   ],
   "source": [
    "p=q=r=\"temp\"\n",
    "print(p,\" \"+q,\" \"+r)"
   ]
  },
  {
   "cell_type": "code",
   "execution_count": 16,
   "id": "796a250d-e63d-4f97-823e-ffbea80750b4",
   "metadata": {},
   "outputs": [
    {
     "data": {
      "text/plain": [
       "str"
      ]
     },
     "execution_count": 16,
     "metadata": {},
     "output_type": "execute_result"
    }
   ],
   "source": [
    "type(x)"
   ]
  },
  {
   "cell_type": "code",
   "execution_count": 20,
   "id": "f707048a-1991-4de2-a965-22f748c00bc3",
   "metadata": {},
   "outputs": [
    {
     "name": "stdin",
     "output_type": "stream",
     "text": [
      "Enter the first number:  78\n",
      "Enter the second number:  78\n"
     ]
    },
    {
     "name": "stdout",
     "output_type": "stream",
     "text": [
      "The Addition is 78 + 78 =  156\n",
      "The Subtraction is 78 - 78 =  0\n",
      "The Multiplication is 78 * 78 =  6084\n",
      "The Division is 78 / 78 =  1.0\n",
      "The Modulus is 78 % 78 =  0\n",
      "The Exponentiation is 78 ** 78 =  3831589812313461262138726500006414268147534037893115512325908939170687185145438579006950082195309705885134607990418665607337632973770507236843454464\n",
      "The Floor Division is 78 // 78 =  1\n",
      "78 equal to 78 =  True\n",
      "78 not equal to 78 =  False\n",
      "78 greater than 78 =  False\n",
      "78 less than 78 =  False\n",
      "78 greater than or equal to78 =  True\n",
      "78 less than or equal to 78 =  True\n"
     ]
    }
   ],
   "source": [
    "num1=int(input(\"Enter the first number: \"))\n",
    "num2=int(input(\"Enter the second number: \"))\n",
    "print(f\"The Addition is {num1} + {num2} = \",num1+num2)\n",
    "print(f\"The Subtraction is {num1} - {num2} = \",num1-num2)\n",
    "print(f\"The Multiplication is {num1} * {num2} = \",num1*num2)\n",
    "print(f\"The Division is {num1} / {num2} = \",num1/num2)\n",
    "print(f\"The Modulus is {num1} % {num2} = \",num1%num2)\n",
    "print(f\"The Exponentiation is {num1} ** {num2} = \",num1**num2)\n",
    "print(f\"The Floor Division is {num1} // {num2} = \",num1//num2)\n",
    "print(f\"{num1} equal to {num2} = \",num1==num2)\n",
    "print(f\"{num1} not equal to {num2} = \",num1!=num2)\n",
    "print(f\"{num1} greater than {num2} = \",num1>num2)\n",
    "print(f\"{num1} less than {num2} = \",num1<num2)\n",
    "print(f\"{num1} greater than or equal to{num2} = \",num1>=num2)\n",
    "print(f\"{num1} less than or equal to {num2} = \",num1<=num2)"
   ]
  },
  {
   "cell_type": "markdown",
   "id": "60e0d495-c46a-4b53-8c3e-1e8169eeedc3",
   "metadata": {},
   "source": [
    "# Assignment operator"
   ]
  },
  {
   "cell_type": "code",
   "execution_count": 25,
   "id": "31df6b47-6a9b-41d5-b431-59079cb6e5e0",
   "metadata": {},
   "outputs": [
    {
     "name": "stdin",
     "output_type": "stream",
     "text": [
      "Enter the first number:  10\n"
     ]
    },
    {
     "name": "stdout",
     "output_type": "stream",
     "text": [
      "Inital value:  10\n",
      "After increment:  15\n",
      "After decrement:  10\n"
     ]
    }
   ],
   "source": [
    "num=int(input(\"Enter the first number: \"))\n",
    "print(\"Inital value: \",num)\n",
    "num+=5\n",
    "print(\"After increment: \",num)\n",
    "num-=5\n",
    "print(\"After decrement: \",num)"
   ]
  },
  {
   "cell_type": "code",
   "execution_count": 27,
   "id": "daf5cae5-deae-4327-94dc-5b6edb28cc4a",
   "metadata": {},
   "outputs": [
    {
     "name": "stdin",
     "output_type": "stream",
     "text": [
      "Enter your email:  admin@gmail.com\n",
      "Enter your password:  fiza\n"
     ]
    },
    {
     "name": "stdout",
     "output_type": "stream",
     "text": [
      "False\n"
     ]
    }
   ],
   "source": [
    "email = input(\"Enter your email: \")\n",
    "password = input(\"Enter your password: \")\n",
    "print(email == \"admin@gmail.com\" and password==\"admin\")"
   ]
  },
  {
   "cell_type": "code",
   "execution_count": 29,
   "id": "1a395f97-cf3f-4c5c-ae5e-452be4472e84",
   "metadata": {},
   "outputs": [
    {
     "name": "stdin",
     "output_type": "stream",
     "text": [
      "Enter the number to check for postive or negative:  11\n"
     ]
    },
    {
     "name": "stdout",
     "output_type": "stream",
     "text": [
      "11 is a positive number\n"
     ]
    }
   ],
   "source": [
    "num=int(input(\"Enter the number to check for postive or negative: \"))\n",
    "if num>0:\n",
    "    print(f\"{num} is a positive number\")\n",
    "elif num==0:\n",
    "    print(f\"{num} is zero\")\n",
    "else:\n",
    "    print(f\"{num} is a negative number\")"
   ]
  },
  {
   "cell_type": "code",
   "execution_count": 31,
   "id": "f41fc6de-7320-4152-9cfd-95f2b2d02594",
   "metadata": {},
   "outputs": [
    {
     "name": "stdin",
     "output_type": "stream",
     "text": [
      "Enter the number to check for postive or negative:  13\n"
     ]
    },
    {
     "name": "stdout",
     "output_type": "stream",
     "text": [
      "13 is a positive odd number\n"
     ]
    }
   ],
   "source": [
    "num=int(input(\"Enter the number to check for postive or negative: \"))\n",
    "if num>0:\n",
    "    if num%2==0:\n",
    "        print(f\"{num} is a positive even number\")\n",
    "    else:\n",
    "        print(f\"{num} is a positive odd number\")\n",
    "elif num==0:\n",
    "    print(f\"{num} is zero\")\n",
    "else:\n",
    "    print(f\"{num} is a negative number\")     "
   ]
  },
  {
   "cell_type": "markdown",
   "id": "5ab1c21b-1d03-4481-a6bb-5be09e7f0e69",
   "metadata": {},
   "source": [
    "# Pass Statement"
   ]
  },
  {
   "cell_type": "code",
   "execution_count": 32,
   "id": "c6e28565-a488-48bd-a6b9-1ab57a53f4e5",
   "metadata": {},
   "outputs": [],
   "source": [
    "num = 5\n",
    "if num>0:\n",
    "    pass\n",
    "else:\n",
    "    print(\"This is a pass statement\")"
   ]
  },
  {
   "cell_type": "markdown",
   "id": "7eb76625-64ca-4403-94a2-8761be292786",
   "metadata": {},
   "source": [
    "# Task"
   ]
  },
  {
   "cell_type": "code",
   "execution_count": 46,
   "id": "c819a80a-d3b6-4c42-a436-21cb6f400234",
   "metadata": {},
   "outputs": [
    {
     "name": "stdin",
     "output_type": "stream",
     "text": [
      "Enter your marks for your grading 900\n"
     ]
    },
    {
     "name": "stdout",
     "output_type": "stream",
     "text": [
      "Grade A\n"
     ]
    }
   ],
   "source": [
    "marks = int(input(\"Enter your marks for your grading\"))\n",
    "if marks>=90 or marks>=100:\n",
    "    print(\"Grade A\")\n",
    "elif marks>=89 or marks>=70:\n",
    "    print(\"Grade B\")\n",
    "elif marks>=69 or marks>=50:\n",
    "    print(\"Grade C\")\n",
    "elif marks<50:\n",
    "    print(\"Sorry You FAILED\")\n",
    "else:\n",
    "    print(\"Enter the correct marks\")"
   ]
  },
  {
   "cell_type": "code",
   "execution_count": 48,
   "id": "dfc59a34-041c-4f04-8e32-76088578afa0",
   "metadata": {},
   "outputs": [
    {
     "name": "stdin",
     "output_type": "stream",
     "text": [
      "Enter the number to check for postive or negative:  45\n"
     ]
    },
    {
     "name": "stdout",
     "output_type": "stream",
     "text": [
      "45 is a positive odd number\n"
     ]
    }
   ],
   "source": [
    "num=int(input(\"Enter the number to check for postive or negative: \"))\n",
    "if num>0:\n",
    "    if num%2==0:\n",
    "        print(f\"{num} is a positive even number\")\n",
    "    else:\n",
    "        print(f\"{num} is a positive odd number\")\n",
    "elif num==0:\n",
    "    print(f\"{num} is zero\")\n",
    "else:\n",
    "    print(f\"{num} is a negative number\")     "
   ]
  },
  {
   "cell_type": "code",
   "execution_count": 59,
   "id": "b74f46a3-a228-4fea-9558-0f8ca4dda018",
   "metadata": {},
   "outputs": [
    {
     "name": "stdin",
     "output_type": "stream",
     "text": [
      "Enter the purchase amount:  89\n"
     ]
    },
    {
     "name": "stdout",
     "output_type": "stream",
     "text": [
      "Your purchase amount is 89\n",
      "The discount is 20%\n",
      "The discount amount: 17.8\n",
      "The amount to be payed: 71.2\n"
     ]
    }
   ],
   "source": [
    "amt=int(input(\"Enter the purchase amount: \"))\n",
    "\n",
    "if amt<=500:\n",
    "    dis=amt*0.2\n",
    "    pay=amt-dis\n",
    "    print(f\"Your purchase amount is {amt}\\nThe discount is 20%\\nThe discount amount: {dis}\\nThe amount to be payed: {pay}\")\n",
    "elif amt<500 or amt>=200:\n",
    "    dis=amt*0.1\n",
    "    pay=amt-dis\n",
    "    print(f\"Your purchase amount is {amt}\\nThe discount is 20%\\nThe discount amount: {dis}\\nThe amount to be payed: {pay}\")"
   ]
  },
  {
   "cell_type": "markdown",
   "id": "637a2a07-beb8-428a-8bd5-3c09f6199860",
   "metadata": {},
   "source": [
    "# Loops"
   ]
  },
  {
   "cell_type": "code",
   "execution_count": 60,
   "id": "ac09496c-1e97-4df0-84e5-f365b906f79e",
   "metadata": {},
   "outputs": [
    {
     "name": "stdout",
     "output_type": "stream",
     "text": [
      "Count:  1\n",
      "Count:  2\n",
      "Count:  3\n",
      "Count:  4\n",
      "Count:  5\n"
     ]
    }
   ],
   "source": [
    "count = 1\n",
    "while count<=5:\n",
    "    print(\"Count: \",count)\n",
    "    count+=1"
   ]
  },
  {
   "cell_type": "code",
   "execution_count": 61,
   "id": "be79f55f-4821-478b-a05e-559111c55f66",
   "metadata": {},
   "outputs": [
    {
     "name": "stdout",
     "output_type": "stream",
     "text": [
      "Number:  1\n",
      "Number:  2\n",
      "Number:  3\n",
      "Number:  4\n",
      "Number:  5\n"
     ]
    }
   ],
   "source": [
    "for num in range(1,6):\n",
    "    print(\"Number: \",num)"
   ]
  },
  {
   "cell_type": "code",
   "execution_count": 63,
   "id": "c21dc62b-40d3-44f3-9d8b-32317dbb1fdb",
   "metadata": {},
   "outputs": [
    {
     "name": "stdout",
     "output_type": "stream",
     "text": [
      "Number:  1\n",
      "Number:  2\n",
      "Number:  3\n",
      "Number:  4\n",
      "Breaking number:  5\n"
     ]
    }
   ],
   "source": [
    "for num in range(1,11):\n",
    "    if num==5:\n",
    "        print(\"Breaking number: \",num)\n",
    "        break\n",
    "    print(\"Number: \",num)"
   ]
  },
  {
   "cell_type": "markdown",
   "id": "5f388192-a09b-4b36-a93b-971c1717421b",
   "metadata": {},
   "source": [
    "# Activity"
   ]
  },
  {
   "cell_type": "code",
   "execution_count": 73,
   "id": "8e1f4bfd-544d-41bc-917f-7d6cbdd7b4c7",
   "metadata": {},
   "outputs": [
    {
     "name": "stdin",
     "output_type": "stream",
     "text": [
      "Enter the first number:  20\n",
      "Enter the last number:  100\n"
     ]
    },
    {
     "name": "stdout",
     "output_type": "stream",
     "text": [
      "The sum of all positive numbers between 20 and 100 is 4740\n"
     ]
    }
   ],
   "source": [
    "num1 = int(input(\"Enter the first number: \"))\n",
    "num2 = int(input(\"Enter the last number: \"))\n",
    "\n",
    "if num1 > 0 and num2 > 0:\n",
    "    if num1 < num2:\n",
    "        total_sum = sum(range(num1 + 1, num2))\n",
    "        print(f\"The sum of all positive numbers between {num1} and {num2} is {total_sum}\")\n",
    "    else:\n",
    "        print(\"The first number should be less than the last number.\")\n",
    "else:\n",
    "    print(\"Please enter positive numbers for the range.\")\n"
   ]
  },
  {
   "cell_type": "markdown",
   "id": "17717bcf-7dac-44ea-8576-ed4e0f057a35",
   "metadata": {},
   "source": [
    "# pattern"
   ]
  },
  {
   "cell_type": "code",
   "execution_count": 2,
   "id": "8875667f-d967-41c9-8b3a-825c87672bac",
   "metadata": {},
   "outputs": [
    {
     "name": "stdout",
     "output_type": "stream",
     "text": [
      "1 \n",
      "1 2 \n",
      "1 2 3 \n",
      "1 2 3 4 \n",
      "1 2 3 4 5 \n"
     ]
    }
   ],
   "source": [
    "def pattern(n):\n",
    "    num = 1\n",
    "    for i in range(0,n):\n",
    "        num = 1\n",
    "        for j in range(0,i+1):\n",
    "            print(num,end=\" \")\n",
    "            num+=1\n",
    "        print(\"\")\n",
    "n=5\n",
    "pattern(n)"
   ]
  },
  {
   "cell_type": "markdown",
   "id": "cd8f860d-81b2-4294-b3cf-a3bec682394a",
   "metadata": {},
   "source": [
    "# Functions"
   ]
  },
  {
   "cell_type": "code",
   "execution_count": 74,
   "id": "81a1aa02-359f-40b2-a3ef-0dcdd30ebf6b",
   "metadata": {},
   "outputs": [
    {
     "name": "stdout",
     "output_type": "stream",
     "text": [
      "Good day Fiza\n"
     ]
    }
   ],
   "source": [
    "def greet(name):\n",
    "    print(f\"Good day {name}\")\n",
    "greet(\"Fiza\")"
   ]
  },
  {
   "cell_type": "code",
   "execution_count": 76,
   "id": "95bc91a3-f4d3-4b10-806b-ca8baa4bf7b7",
   "metadata": {},
   "outputs": [
    {
     "name": "stdout",
     "output_type": "stream",
     "text": [
      "120\n"
     ]
    }
   ],
   "source": [
    "def factorial(n):\n",
    "    if n==1:\n",
    "        return 1\n",
    "    else: \n",
    "        return n*factorial(n-1)\n",
    "print(factorial(5))"
   ]
  },
  {
   "cell_type": "code",
   "execution_count": 79,
   "id": "2795bb1e-d845-4ce1-b294-8ddc49ea1083",
   "metadata": {},
   "outputs": [
    {
     "name": "stdin",
     "output_type": "stream",
     "text": [
      "Enter your email:  admihn@gmail.com\n",
      "Enter your password:  admin\n"
     ]
    },
    {
     "name": "stdout",
     "output_type": "stream",
     "text": [
      "Email is invalid.\n",
      "Password is valid.\n"
     ]
    }
   ],
   "source": [
    "email = input(\"Enter your email: \")\n",
    "password = input(\"Enter your password: \")\n",
    "\n",
    "def validate_email(email):\n",
    "    if email == \"admin@gmail.com\":\n",
    "        return True\n",
    "def validate_password(password):\n",
    "    if password == \"admin\":\n",
    "        return True\n",
    "        \n",
    "if validate_email(email):\n",
    "    print(\"Email is valid.\")\n",
    "else:\n",
    "    print(\"Email is invalid.\")\n",
    "\n",
    "if validate_password(password):\n",
    "    print(\"Password is valid.\")\n",
    "else:\n",
    "    print(\"Password is invalid.\")\n",
    "\n"
   ]
  },
  {
   "cell_type": "code",
   "execution_count": 31,
   "id": "b13b4edf-bae6-48fc-869e-85ba2b53d868",
   "metadata": {},
   "outputs": [
    {
     "data": {
      "text/plain": [
       "14"
      ]
     },
     "execution_count": 31,
     "metadata": {},
     "output_type": "execute_result"
    }
   ],
   "source": [
    "mylist = [10,20,14]\n",
    "mylist[2]"
   ]
  },
  {
   "cell_type": "code",
   "execution_count": 32,
   "id": "52469ec3-83e4-4144-9e6d-cb559d5b8987",
   "metadata": {},
   "outputs": [],
   "source": [
    "mylist.append(20)"
   ]
  },
  {
   "cell_type": "code",
   "execution_count": 33,
   "id": "18d96cbd-c912-40b4-b8c7-b05db629af30",
   "metadata": {},
   "outputs": [
    {
     "data": {
      "text/plain": [
       "[10, 20, 14, 20]"
      ]
     },
     "execution_count": 33,
     "metadata": {},
     "output_type": "execute_result"
    }
   ],
   "source": [
    "mylist"
   ]
  },
  {
   "cell_type": "code",
   "execution_count": 34,
   "id": "2a65f59e-fb49-431e-adb3-aa4e855c1bc1",
   "metadata": {},
   "outputs": [
    {
     "data": {
      "text/plain": [
       "[10, 20, 14, 21, 20]"
      ]
     },
     "execution_count": 34,
     "metadata": {},
     "output_type": "execute_result"
    }
   ],
   "source": [
    "mylist.insert(3,21)\n",
    "mylist"
   ]
  },
  {
   "cell_type": "code",
   "execution_count": 35,
   "id": "da476f45-3923-4d6d-9ede-83fadd7d8d3b",
   "metadata": {},
   "outputs": [
    {
     "name": "stdout",
     "output_type": "stream",
     "text": [
      "20\n"
     ]
    },
    {
     "data": {
      "text/plain": [
       "[10, 20, 14, 21]"
      ]
     },
     "execution_count": 35,
     "metadata": {},
     "output_type": "execute_result"
    }
   ],
   "source": [
    "data = mylist.pop()\n",
    "print(data)\n",
    "mylist"
   ]
  },
  {
   "cell_type": "code",
   "execution_count": 36,
   "id": "1572e054-9f8b-4360-8e39-4f1857f7fe06",
   "metadata": {},
   "outputs": [
    {
     "data": {
      "text/plain": [
       "10"
      ]
     },
     "execution_count": 36,
     "metadata": {},
     "output_type": "execute_result"
    }
   ],
   "source": [
    "min(mylist)"
   ]
  },
  {
   "cell_type": "code",
   "execution_count": 37,
   "id": "53de66d3-c472-48e8-b2a4-cbe85705a307",
   "metadata": {},
   "outputs": [
    {
     "data": {
      "text/plain": [
       "21"
      ]
     },
     "execution_count": 37,
     "metadata": {},
     "output_type": "execute_result"
    }
   ],
   "source": [
    "max(mylist)"
   ]
  },
  {
   "cell_type": "code",
   "execution_count": 38,
   "id": "275673d7-36d2-470c-b19a-4323519d86a3",
   "metadata": {},
   "outputs": [
    {
     "data": {
      "text/plain": [
       "65"
      ]
     },
     "execution_count": 38,
     "metadata": {},
     "output_type": "execute_result"
    }
   ],
   "source": [
    "sum(mylist)"
   ]
  },
  {
   "cell_type": "code",
   "execution_count": 39,
   "id": "d29dfc3f-f3b3-4e00-b4c5-bf87d024a2d0",
   "metadata": {},
   "outputs": [
    {
     "data": {
      "text/plain": [
       "True"
      ]
     },
     "execution_count": 39,
     "metadata": {},
     "output_type": "execute_result"
    }
   ],
   "source": [
    "#check membership\n",
    "20 in mylist"
   ]
  },
  {
   "cell_type": "code",
   "execution_count": 30,
   "id": "9e912dbc-bcbf-4a08-a10f-86967fda4341",
   "metadata": {},
   "outputs": [
    {
     "ename": "NameError",
     "evalue": "name 'mylist' is not defined",
     "output_type": "error",
     "traceback": [
      "\u001b[1;31m---------------------------------------------------------------------------\u001b[0m",
      "\u001b[1;31mNameError\u001b[0m                                 Traceback (most recent call last)",
      "Cell \u001b[1;32mIn[30], line 1\u001b[0m\n\u001b[1;32m----> 1\u001b[0m \u001b[38;5;28;01mdel\u001b[39;00m(\u001b[43mmylist\u001b[49m)\n\u001b[0;32m      2\u001b[0m mylist\n",
      "\u001b[1;31mNameError\u001b[0m: name 'mylist' is not defined"
     ]
    }
   ],
   "source": [
    "del(mylist)\n",
    "mylist"
   ]
  },
  {
   "cell_type": "code",
   "execution_count": 40,
   "id": "2377a2cf-c866-457e-b08f-fdb3e7a9e1f0",
   "metadata": {},
   "outputs": [
    {
     "data": {
      "text/plain": [
       "['Cherry', 'Tomato']"
      ]
     },
     "execution_count": 40,
     "metadata": {},
     "output_type": "execute_result"
    }
   ],
   "source": [
    "fruit = [\"Apple\",\"Cherry\",\"Tomato\",\"Graphs\"]\n",
    "fruit[1:3]"
   ]
  },
  {
   "cell_type": "code",
   "execution_count": 43,
   "id": "dfb90fa9-ce5d-45a9-8b60-cb2e7ccb7944",
   "metadata": {},
   "outputs": [
    {
     "data": {
      "text/plain": [
       "['Apple',\n",
       " 'Cherry',\n",
       " 'Tomato',\n",
       " 'Graphs',\n",
       " 'Green Apple',\n",
       " 'Red Apple',\n",
       " 'Green Apple',\n",
       " 'Red Apple']"
      ]
     },
     "execution_count": 43,
     "metadata": {},
     "output_type": "execute_result"
    }
   ],
   "source": [
    "fruit.extend([\"Green Apple\",\"Red Apple\"])\n",
    "fruit"
   ]
  },
  {
   "cell_type": "code",
   "execution_count": 45,
   "id": "34ea528a-c880-4028-9566-9bb74ddffc62",
   "metadata": {},
   "outputs": [
    {
     "data": {
      "text/plain": [
       "['Apple',\n",
       " 'Cherry',\n",
       " 'Tomato',\n",
       " 'Graphs',\n",
       " 'Yellow apple',\n",
       " 'Red Apple',\n",
       " 'Green Apple',\n",
       " 'Red Apple']"
      ]
     },
     "execution_count": 45,
     "metadata": {},
     "output_type": "execute_result"
    }
   ],
   "source": [
    "fruit[4]=\"Yellow apple\"\n",
    "fruit"
   ]
  },
  {
   "cell_type": "code",
   "execution_count": 46,
   "id": "6e308236-7b5b-485c-bc19-3a766919b6ac",
   "metadata": {},
   "outputs": [
    {
     "data": {
      "text/plain": [
       "['Apple',\n",
       " 'Cherry',\n",
       " 'Tomato',\n",
       " 'Graphs',\n",
       " 'Red Apple',\n",
       " 'Green Apple',\n",
       " 'Red Apple']"
      ]
     },
     "execution_count": 46,
     "metadata": {},
     "output_type": "execute_result"
    }
   ],
   "source": [
    "del fruit[4]\n",
    "fruit"
   ]
  },
  {
   "cell_type": "code",
   "execution_count": 52,
   "id": "f59f07ca-ccf6-437b-815e-c6d0fccc0f80",
   "metadata": {},
   "outputs": [],
   "source": [
    "fruit.clear()"
   ]
  },
  {
   "cell_type": "code",
   "execution_count": 53,
   "id": "949d37f6-71a9-402f-85a3-20e4d6e634ed",
   "metadata": {},
   "outputs": [
    {
     "data": {
      "text/plain": [
       "[]"
      ]
     },
     "execution_count": 53,
     "metadata": {},
     "output_type": "execute_result"
    }
   ],
   "source": [
    "fruit"
   ]
  },
  {
   "cell_type": "code",
   "execution_count": 58,
   "id": "e7f5533f-0a2d-4c6c-b9e1-6141cf0dbee4",
   "metadata": {},
   "outputs": [
    {
     "name": "stdout",
     "output_type": "stream",
     "text": [
      "1\n",
      "2\n",
      "3\n",
      "4\n",
      "5\n",
      "6\n",
      "7\n",
      "8\n",
      "9\n",
      "10\n",
      "1\n",
      "2\n",
      "3\n",
      "4\n",
      "5\n",
      "6\n",
      "7\n",
      "8\n",
      "9\n",
      "10\n"
     ]
    }
   ],
   "source": [
    "mydata = [1,2,3,4,5,6,7,8,9,10]\n",
    "for num in mydata:\n",
    "    print(num)\n",
    "\n",
    "i=0\n",
    "while i<len(mydata):\n",
    "    print(mydata[i])\n",
    "    i+=1"
   ]
  },
  {
   "cell_type": "code",
   "execution_count": 63,
   "id": "d370def2-5c08-4742-8dc3-e22883440f27",
   "metadata": {},
   "outputs": [
    {
     "data": {
      "text/plain": [
       "[1, 3, 56, 67, 75, 234, 235]"
      ]
     },
     "execution_count": 63,
     "metadata": {},
     "output_type": "execute_result"
    }
   ],
   "source": [
    "data = [234,3,1,75,67,235,56]\n",
    "data.sort()\n",
    "data"
   ]
  },
  {
   "cell_type": "code",
   "execution_count": 64,
   "id": "8a2f5f62-ca39-40ad-94ab-30250738884f",
   "metadata": {},
   "outputs": [
    {
     "data": {
      "text/plain": [
       "[235, 234, 75, 67, 56, 3, 1]"
      ]
     },
     "execution_count": 64,
     "metadata": {},
     "output_type": "execute_result"
    }
   ],
   "source": [
    "data.reverse()\n",
    "data"
   ]
  },
  {
   "cell_type": "code",
   "execution_count": 65,
   "id": "82515534-6943-491e-97c0-5aa5337617c5",
   "metadata": {},
   "outputs": [
    {
     "data": {
      "text/plain": [
       "[235, 234, 75, 67, 56, 3, 1]"
      ]
     },
     "execution_count": 65,
     "metadata": {},
     "output_type": "execute_result"
    }
   ],
   "source": [
    "copy = data.copy()\n",
    "copy"
   ]
  },
  {
   "cell_type": "code",
   "execution_count": 66,
   "id": "a004826c-3239-4e4b-b8a5-946df13b83b6",
   "metadata": {},
   "outputs": [
    {
     "data": {
      "text/plain": [
       "[1, 4, 9, 16, 25]"
      ]
     },
     "execution_count": 66,
     "metadata": {},
     "output_type": "execute_result"
    }
   ],
   "source": [
    "square = [x**2 for x in range(1,6)]\n",
    "square"
   ]
  },
  {
   "cell_type": "markdown",
   "id": "21263b6e-7c3d-4d40-97af-722aa66b2e14",
   "metadata": {},
   "source": [
    "# Tuple"
   ]
  },
  {
   "cell_type": "code",
   "execution_count": 76,
   "id": "16f2cdaf-bdba-4d54-9379-be428f8cec50",
   "metadata": {},
   "outputs": [
    {
     "data": {
      "text/plain": [
       "('Green Apple', 'Red Apple', 'Banana', 'jackfruit', 'Mango')"
      ]
     },
     "execution_count": 76,
     "metadata": {},
     "output_type": "execute_result"
    }
   ],
   "source": [
    "fruit = (\"Green Apple\",\"Red Apple\",\"Banana\",\"jackfruit\",\"Mango\")\n",
    "fruit"
   ]
  },
  {
   "cell_type": "code",
   "execution_count": 71,
   "id": "fc8193d5-1de7-4b6f-a726-9aa88f9c582e",
   "metadata": {},
   "outputs": [
    {
     "data": {
      "text/plain": [
       "('Test', 1, 'a', 3.14, [3, 8, 9])"
      ]
     },
     "execution_count": 71,
     "metadata": {},
     "output_type": "execute_result"
    }
   ],
   "source": [
    "mixed = (\"Test\",1,\"a\",3.14,[3,8,9])\n",
    "mixed"
   ]
  },
  {
   "cell_type": "code",
   "execution_count": 72,
   "id": "8b290225-eafc-4aec-aec0-4f6b8ce53d38",
   "metadata": {},
   "outputs": [
    {
     "data": {
      "text/plain": [
       "()"
      ]
     },
     "execution_count": 72,
     "metadata": {},
     "output_type": "execute_result"
    }
   ],
   "source": [
    "emp=()\n",
    "emp"
   ]
  },
  {
   "cell_type": "code",
   "execution_count": 74,
   "id": "b49a0852-f4d5-4aad-ad64-563e04db0f38",
   "metadata": {},
   "outputs": [
    {
     "data": {
      "text/plain": [
       "tuple"
      ]
     },
     "execution_count": 74,
     "metadata": {},
     "output_type": "execute_result"
    }
   ],
   "source": [
    "single = (\"Helooo\",)\n",
    "type(single)"
   ]
  },
  {
   "cell_type": "code",
   "execution_count": 77,
   "id": "e5becfb9-ae75-42dd-a8c4-1ec7874a2570",
   "metadata": {},
   "outputs": [
    {
     "data": {
      "text/plain": [
       "'Mango'"
      ]
     },
     "execution_count": 77,
     "metadata": {},
     "output_type": "execute_result"
    }
   ],
   "source": [
    "fruit[-1]"
   ]
  },
  {
   "cell_type": "code",
   "execution_count": 78,
   "id": "be808910-e4ff-4886-98bb-f635b5f3c86a",
   "metadata": {},
   "outputs": [
    {
     "data": {
      "text/plain": [
       "(1, 2, 3, 4)"
      ]
     },
     "execution_count": 78,
     "metadata": {},
     "output_type": "execute_result"
    }
   ],
   "source": [
    "num_tuple = (1,2,3)\n",
    "num_list = list(num_tuple)\n",
    "num_list.append(4)\n",
    "num_tuple = tuple(num_list)\n",
    "num_tuple"
   ]
  },
  {
   "cell_type": "markdown",
   "id": "56f00191-c260-44a2-9d9c-d96d37c51492",
   "metadata": {},
   "source": [
    "# Dictinary"
   ]
  },
  {
   "cell_type": "code",
   "execution_count": 88,
   "id": "88c770ac-7ad4-4062-8d9c-96df83935cc9",
   "metadata": {},
   "outputs": [
    {
     "name": "stdout",
     "output_type": "stream",
     "text": [
      "eid : 1001\n",
      "name : Alice\n",
      "department : I.T\n",
      "salary : 50000\n"
     ]
    }
   ],
   "source": [
    "employee = {\n",
    "    \"eid\":1001,\n",
    "    \"name\":\"Alice\",\n",
    "    \"department\":\"I.T\",\n",
    "    \"salary\": 50000\n",
    "}\n",
    "for key in employee:\n",
    "    print(key,\":\",employee[key])"
   ]
  },
  {
   "cell_type": "code",
   "execution_count": 94,
   "id": "9a379efc-b083-48d9-b16d-4f64f0f66956",
   "metadata": {},
   "outputs": [
    {
     "name": "stdout",
     "output_type": "stream",
     "text": [
      "eid : 1001\n",
      "name : Alice\n",
      "department : I.T\n",
      "salary : 50000\n"
     ]
    }
   ],
   "source": [
    "employee = {\n",
    "    \"eid\":1001,\n",
    "    \"name\":\"Alice\",\n",
    "    \"department\":\"I.T\",\n",
    "    \"salary\": 50000\n",
    "}\n",
    "for key,value in employee.items():\n",
    "    print(key,\":\",value)\n"
   ]
  },
  {
   "cell_type": "code",
   "execution_count": 95,
   "id": "f1fe90b0-1c89-4cf1-a1ff-fc792bcf955a",
   "metadata": {},
   "outputs": [
    {
     "name": "stdout",
     "output_type": "stream",
     "text": [
      "salary in employee\n"
     ]
    }
   ],
   "source": [
    "if \"salary\" in employee:\n",
    "    print(\"salary in employee\")"
   ]
  },
  {
   "cell_type": "code",
   "execution_count": 84,
   "id": "7679c472-affc-471c-91a5-effb4919f94f",
   "metadata": {},
   "outputs": [
    {
     "data": {
      "text/plain": [
       "50000"
      ]
     },
     "execution_count": 84,
     "metadata": {},
     "output_type": "execute_result"
    }
   ],
   "source": [
    "employee['eid']\n",
    "employee['name']\n",
    "employee['department']\n",
    "employee['salary']"
   ]
  },
  {
   "cell_type": "code",
   "execution_count": 86,
   "id": "5ac05bfc-d340-4933-a0f9-d8f3f870e69e",
   "metadata": {},
   "outputs": [
    {
     "name": "stdout",
     "output_type": "stream",
     "text": [
      "None\n"
     ]
    }
   ],
   "source": [
    "print(employee.get('manager'))"
   ]
  },
  {
   "cell_type": "code",
   "execution_count": 87,
   "id": "b69b426d-0de5-4ed4-add4-7239e906516c",
   "metadata": {},
   "outputs": [
    {
     "name": "stdout",
     "output_type": "stream",
     "text": [
      "Manager:  Fiza\n"
     ]
    }
   ],
   "source": [
    "print(\"Manager: \",employee.get('manager','Fiza'))"
   ]
  },
  {
   "cell_type": "markdown",
   "id": "5d6d1ab1-61ac-403c-b4eb-a2e0754d8f3b",
   "metadata": {},
   "source": [
    "# Sets"
   ]
  },
  {
   "cell_type": "code",
   "execution_count": 98,
   "id": "13bff768-51d5-4e2c-8a0c-0a055ca758c1",
   "metadata": {},
   "outputs": [
    {
     "name": "stdout",
     "output_type": "stream",
     "text": [
      "{403, 404, 500, 200, 302}\n"
     ]
    }
   ],
   "source": [
    "myset = {404,200,500,302,403}\n",
    "print(myset)"
   ]
  },
  {
   "cell_type": "code",
   "execution_count": 99,
   "id": "6192c76c-4115-4c14-92d3-12231abd6a8a",
   "metadata": {},
   "outputs": [
    {
     "name": "stdout",
     "output_type": "stream",
     "text": [
      "403\n",
      "404\n",
      "500\n",
      "200\n",
      "302\n"
     ]
    }
   ],
   "source": [
    "for num in myset:\n",
    "    print(num)"
   ]
  },
  {
   "cell_type": "code",
   "execution_count": 101,
   "id": "bb045d0e-da25-468a-940d-1e0c7328602c",
   "metadata": {},
   "outputs": [
    {
     "data": {
      "text/plain": [
       "{200, 302, 403, 404, 500, 600}"
      ]
     },
     "execution_count": 101,
     "metadata": {},
     "output_type": "execute_result"
    }
   ],
   "source": [
    "myset.update([200,600])\n",
    "myset"
   ]
  },
  {
   "cell_type": "code",
   "execution_count": 103,
   "id": "99532a3b-c9d2-4423-84b7-4080c23a5a91",
   "metadata": {},
   "outputs": [
    {
     "data": {
      "text/plain": [
       "{302, 403, 404, 500, 600}"
      ]
     },
     "execution_count": 103,
     "metadata": {},
     "output_type": "execute_result"
    }
   ],
   "source": [
    "myset.discard(200)\n",
    "myset"
   ]
  },
  {
   "cell_type": "code",
   "execution_count": 104,
   "id": "66bb9435-e86c-4e7b-9c0d-324d3c7b6579",
   "metadata": {},
   "outputs": [
    {
     "data": {
      "text/plain": [
       "{302, 404, 500, 600}"
      ]
     },
     "execution_count": 104,
     "metadata": {},
     "output_type": "execute_result"
    }
   ],
   "source": [
    "myset.pop()\n",
    "myset"
   ]
  },
  {
   "cell_type": "code",
   "execution_count": 105,
   "id": "f5254b2e-e9b6-4817-bc25-078dfc1d5b58",
   "metadata": {},
   "outputs": [
    {
     "name": "stdout",
     "output_type": "stream",
     "text": [
      "{1, 2, 3, 4, 5, 6, 7, 8}\n",
      "{1, 2, 3, 4, 5, 6, 7, 8}\n"
     ]
    }
   ],
   "source": [
    "a = {1,2,3,4,5}\n",
    "b = {4,5,6,7,8}\n",
    "\n",
    "print(a|b)\n",
    "print(a.union(b))"
   ]
  },
  {
   "cell_type": "code",
   "execution_count": 106,
   "id": "d888752d-96ca-4012-bd3b-cf3b9b38c0e6",
   "metadata": {},
   "outputs": [
    {
     "name": "stdout",
     "output_type": "stream",
     "text": [
      "{4, 5}\n",
      "{4, 5}\n"
     ]
    }
   ],
   "source": [
    "print(a&b)\n",
    "print(a.intersection(b))"
   ]
  },
  {
   "cell_type": "code",
   "execution_count": 107,
   "id": "4ee11038-10dc-4363-a17a-a38962d0a6ba",
   "metadata": {},
   "outputs": [
    {
     "name": "stdout",
     "output_type": "stream",
     "text": [
      "{1, 2, 3}\n",
      "{1, 2, 3}\n"
     ]
    }
   ],
   "source": [
    "print(a-b)\n",
    "print(a.difference(b))"
   ]
  },
  {
   "cell_type": "code",
   "execution_count": 108,
   "id": "755fa535-0ced-4267-94c7-fe63b7ea1581",
   "metadata": {},
   "outputs": [
    {
     "name": "stdout",
     "output_type": "stream",
     "text": [
      "{1, 2, 3, 6, 7, 8}\n",
      "{1, 2, 3, 6, 7, 8}\n"
     ]
    }
   ],
   "source": [
    "print(a^b)\n",
    "print(a.symmetric_difference(b))"
   ]
  },
  {
   "cell_type": "code",
   "execution_count": 112,
   "id": "ecb7cd52-ad5f-4246-b741-b38d30377418",
   "metadata": {},
   "outputs": [
    {
     "name": "stdout",
     "output_type": "stream",
     "text": [
      "Initial employees and salaries:\n",
      "Current employees and salaries:\n",
      "em1: Alice - 70000\n",
      "em2: Bob - 80000\n",
      "em3: Charlie - 75000\n",
      "Employee \"David\" with salary 85000 added.\n",
      "Employee \"Bob\" salary updated to 90000.\n",
      "Employee \"Charlie\" removed.\n",
      "Updated employees and salaries:\n",
      "Current employees and salaries:\n",
      "em1: Alice - 70000\n",
      "em2: Bob - 90000\n",
      "em4: David - 85000\n"
     ]
    }
   ],
   "source": [
    "# Initialize a dictionary with 3 employees and their salaries\n",
    "employees = {\n",
    "    \"em1\": {\"name\": \"Alice\", \"salary\": 70000},\n",
    "    \"em2\": {\"name\": \"Bob\", \"salary\": 80000},\n",
    "    \"em3\": {\"name\": \"Charlie\", \"salary\": 75000}\n",
    "}\n",
    "\n",
    "def add_employee(emp_id, name, salary):\n",
    "    employees[emp_id] = {\"name\": name, \"salary\": salary}\n",
    "    print(f'Employee \"{name}\" with salary {salary} added.')\n",
    "\n",
    "\n",
    "def update_employee(emp_id, new_salary):\n",
    "    if emp_id in employees:\n",
    "        employees[emp_id][\"salary\"] = new_salary\n",
    "        print(f'Employee \"{employees[emp_id][\"name\"]}\" salary updated to {new_salary}.')\n",
    "    else:\n",
    "        print(f'Employee with ID \"{emp_id}\" not found.')\n",
    "\n",
    "def remove_employee(emp_id):\n",
    "    if emp_id in employees:\n",
    "        removed_employee = employees.pop(emp_id)\n",
    "        print(f'Employee \"{removed_employee[\"name\"]}\" removed.')\n",
    "    else:\n",
    "        print(f'Employee with ID \"{emp_id}\" not found.')\n",
    "\n",
    "def print_all_employees():\n",
    "    print(\"Current employees and salaries:\")\n",
    "    for emp_id, details in employees.items():\n",
    "        print(f'{emp_id}: {details[\"name\"]} - {details[\"salary\"]}')\n",
    "\n",
    "\n",
    "print(\"Initial employees and salaries:\")\n",
    "print_all_employees()\n",
    "add_employee(\"em4\", \"David\", 85000)\n",
    "update_employee(\"em2\", 90000)\n",
    "remove_employee(\"em3\")\n",
    "\n",
    "print(\"Updated employees and salaries:\")\n",
    "print_all_employees()\n"
   ]
  },
  {
   "cell_type": "code",
   "execution_count": null,
   "id": "cc3f1330-fbf9-40ba-8ce9-ea8a8201f481",
   "metadata": {},
   "outputs": [],
   "source": []
  }
 ],
 "metadata": {
  "kernelspec": {
   "display_name": "Python 3 (ipykernel)",
   "language": "python",
   "name": "python3"
  },
  "language_info": {
   "codemirror_mode": {
    "name": "ipython",
    "version": 3
   },
   "file_extension": ".py",
   "mimetype": "text/x-python",
   "name": "python",
   "nbconvert_exporter": "python",
   "pygments_lexer": "ipython3",
   "version": "3.13.2"
  }
 },
 "nbformat": 4,
 "nbformat_minor": 5
}
