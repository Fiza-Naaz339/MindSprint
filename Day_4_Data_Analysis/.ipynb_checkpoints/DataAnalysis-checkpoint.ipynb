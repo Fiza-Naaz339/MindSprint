{
 "cells": [
  {
   "cell_type": "code",
   "execution_count": 1,
   "id": "bce6fb9b-540a-4607-80e8-3b808ae062a0",
   "metadata": {},
   "outputs": [],
   "source": [
    "import pandas as pd"
   ]
  },
  {
   "cell_type": "code",
   "execution_count": 3,
   "id": "410a17e3-18be-437a-ae5c-857b9ec3b1fc",
   "metadata": {},
   "outputs": [
    {
     "data": {
      "text/plain": [
       "'2.2.3'"
      ]
     },
     "execution_count": 3,
     "metadata": {},
     "output_type": "execute_result"
    }
   ],
   "source": [
    "pd.__version__"
   ]
  },
  {
   "cell_type": "code",
   "execution_count": 6,
   "id": "a143bc57-dca5-4416-82b1-4f2df9f2d201",
   "metadata": {},
   "outputs": [
    {
     "data": {
      "text/plain": [
       "0    11\n",
       "1    12\n",
       "2     2\n",
       "3    34\n",
       "4    56\n",
       "5    78\n",
       "6    89\n",
       "7    90\n",
       "dtype: int64"
      ]
     },
     "execution_count": 6,
     "metadata": {},
     "output_type": "execute_result"
    }
   ],
   "source": [
    "list = [11,12,2,34,56,78,89,90]\n",
    "myvar = pd.Series(list)\n",
    "myvar"
   ]
  },
  {
   "cell_type": "code",
   "execution_count": 9,
   "id": "249bcb34-c409-46c0-a88b-29d0ef5a28cc",
   "metadata": {},
   "outputs": [
    {
     "data": {
      "text/plain": [
       "np.int64(34)"
      ]
     },
     "execution_count": 9,
     "metadata": {},
     "output_type": "execute_result"
    }
   ],
   "source": [
    "#indexing\n",
    "myvar[3]"
   ]
  },
  {
   "cell_type": "code",
   "execution_count": 12,
   "id": "fe5c2722-a93e-4751-b939-6c4bd6bd0a02",
   "metadata": {},
   "outputs": [
    {
     "name": "stdout",
     "output_type": "stream",
     "text": [
      "a    1\n",
      "b    7\n",
      "c    4\n",
      "dtype: int64\n"
     ]
    },
    {
     "data": {
      "text/plain": [
       "np.int64(7)"
      ]
     },
     "execution_count": 12,
     "metadata": {},
     "output_type": "execute_result"
    }
   ],
   "source": [
    "a = [1,7,4]\n",
    "myvar = pd.Series(a,index=[\"a\",\"b\",\"c\"])\n",
    "print(myvar)\n",
    "myvar[\"b\"]"
   ]
  },
  {
   "cell_type": "code",
   "execution_count": 15,
   "id": "3b3863c1-adcd-4c2f-b416-ff5064e6f761",
   "metadata": {},
   "outputs": [
    {
     "name": "stdout",
     "output_type": "stream",
     "text": [
      "id                       1\n",
      "name                 Alice\n",
      "email      alice@gmail.com\n",
      "address             Mysore\n",
      "salary              980000\n",
      "dtype: object\n",
      "1\n"
     ]
    },
    {
     "data": {
      "text/plain": [
       "'Alice'"
      ]
     },
     "execution_count": 15,
     "metadata": {},
     "output_type": "execute_result"
    }
   ],
   "source": [
    "#lables created automatically\n",
    "employee = {\n",
    "    \"id\":1,\n",
    "    \"name\":\"Alice\",\n",
    "    \"email\":\"alice@gmail.com\",\n",
    "    \"address\":\"Mysore\",\n",
    "    \"salary\":980000\n",
    "}\n",
    "data = pd.Series(employee)\n",
    "print(data)\n",
    "print(data[\"id\"])\n",
    "data[\"name\"]"
   ]
  },
  {
   "cell_type": "code",
   "execution_count": 20,
   "id": "5aa8b521-5410-4b09-8c61-360e95153b3a",
   "metadata": {},
   "outputs": [
    {
     "data": {
      "text/html": [
       "<div>\n",
       "<style scoped>\n",
       "    .dataframe tbody tr th:only-of-type {\n",
       "        vertical-align: middle;\n",
       "    }\n",
       "\n",
       "    .dataframe tbody tr th {\n",
       "        vertical-align: top;\n",
       "    }\n",
       "\n",
       "    .dataframe thead th {\n",
       "        text-align: right;\n",
       "    }\n",
       "</style>\n",
       "<table border=\"1\" class=\"dataframe\">\n",
       "  <thead>\n",
       "    <tr style=\"text-align: right;\">\n",
       "      <th></th>\n",
       "      <th>name</th>\n",
       "      <th>Age</th>\n",
       "      <th>City</th>\n",
       "    </tr>\n",
       "  </thead>\n",
       "  <tbody>\n",
       "    <tr>\n",
       "      <th>0</th>\n",
       "      <td>Alice</td>\n",
       "      <td>25</td>\n",
       "      <td>NYC</td>\n",
       "    </tr>\n",
       "    <tr>\n",
       "      <th>1</th>\n",
       "      <td>Bob</td>\n",
       "      <td>30</td>\n",
       "      <td>LA</td>\n",
       "    </tr>\n",
       "    <tr>\n",
       "      <th>2</th>\n",
       "      <td>Charls</td>\n",
       "      <td>35</td>\n",
       "      <td>Chicago</td>\n",
       "    </tr>\n",
       "  </tbody>\n",
       "</table>\n",
       "</div>"
      ],
      "text/plain": [
       "     name  Age     City\n",
       "0   Alice   25      NYC\n",
       "1     Bob   30       LA\n",
       "2  Charls   35  Chicago"
      ]
     },
     "execution_count": 20,
     "metadata": {},
     "output_type": "execute_result"
    }
   ],
   "source": [
    "#Dataframes  \n",
    "data = {\n",
    "    \"name\": [\"Alice\",\"Bob\",\"Charls\"],\n",
    "    \"Age\": [25,30,35],\n",
    "    \"City\": [\"NYC\",\"LA\",\"Chicago\"]\n",
    "}\n",
    "df = pd.DataFrame(data)\n",
    "df"
   ]
  },
  {
   "cell_type": "code",
   "execution_count": 22,
   "id": "fcf2f4b9-022b-407a-9555-61f71fceb65f",
   "metadata": {},
   "outputs": [
    {
     "name": "stdout",
     "output_type": "stream",
     "text": [
      "     name  Age\n",
      "0   Alice   25\n",
      "1     Bob   30\n",
      "2  Charls   35\n",
      "name    Alice\n",
      "Age        25\n",
      "Name: 0, dtype: object\n",
      "     name  Age\n",
      "0   Alice   25\n",
      "2  Charls   35\n"
     ]
    }
   ],
   "source": [
    "data = {\n",
    "    \"name\": [\"Alice\",\"Bob\",\"Charls\"],\n",
    "    \"Age\": [25,30,35]\n",
    "}\n",
    "df = pd.DataFrame(data)\n",
    "print(df)\n",
    "print(df.loc[0])\n",
    "print(df.loc[[0,2]])"
   ]
  },
  {
   "cell_type": "code",
   "execution_count": 28,
   "id": "c03bd86b-f480-426e-ae1a-64a09cefd436",
   "metadata": {},
   "outputs": [
    {
     "data": {
      "text/html": [
       "<div>\n",
       "<style scoped>\n",
       "    .dataframe tbody tr th:only-of-type {\n",
       "        vertical-align: middle;\n",
       "    }\n",
       "\n",
       "    .dataframe tbody tr th {\n",
       "        vertical-align: top;\n",
       "    }\n",
       "\n",
       "    .dataframe thead th {\n",
       "        text-align: right;\n",
       "    }\n",
       "</style>\n",
       "<table border=\"1\" class=\"dataframe\">\n",
       "  <thead>\n",
       "    <tr style=\"text-align: right;\">\n",
       "      <th></th>\n",
       "      <th>age</th>\n",
       "      <th>name</th>\n",
       "      <th>email</th>\n",
       "      <th>salary</th>\n",
       "    </tr>\n",
       "  </thead>\n",
       "  <tbody>\n",
       "    <tr>\n",
       "      <th>0</th>\n",
       "      <td>25</td>\n",
       "      <td>Alice</td>\n",
       "      <td>alice@gmail.com</td>\n",
       "      <td>2345678</td>\n",
       "    </tr>\n",
       "    <tr>\n",
       "      <th>1</th>\n",
       "      <td>30</td>\n",
       "      <td>Bob</td>\n",
       "      <td>bob@gmail.com</td>\n",
       "      <td>234563456</td>\n",
       "    </tr>\n",
       "    <tr>\n",
       "      <th>2</th>\n",
       "      <td>35</td>\n",
       "      <td>Charls</td>\n",
       "      <td>charls@gmail.com</td>\n",
       "      <td>123456</td>\n",
       "    </tr>\n",
       "  </tbody>\n",
       "</table>\n",
       "</div>"
      ],
      "text/plain": [
       "   age    name             email     salary\n",
       "0   25   Alice   alice@gmail.com    2345678\n",
       "1   30     Bob     bob@gmail.com  234563456\n",
       "2   35  Charls  charls@gmail.com     123456"
      ]
     },
     "execution_count": 28,
     "metadata": {},
     "output_type": "execute_result"
    }
   ],
   "source": [
    "user_data = {\n",
    "    \"age\": [25,30,35],\n",
    "    \"name\": [\"Alice\",\"Bob\",\"Charls\"],\n",
    "    \"salary\":[2345678,234563456,123456],\n",
    "    \"email\":[\"alice@gmail.com\",\"bob@gmail.com\",\"charls@gmail.com\"]\n",
    "}\n",
    "df1 = pd.DataFrame(user_data,columns=[\"age\",\"name\",\"email\",\"salary\"])\n",
    "df1"
   ]
  },
  {
   "cell_type": "code",
   "execution_count": 30,
   "id": "dc83db2d-469b-4e36-82b4-dc94a4e2fc9b",
   "metadata": {},
   "outputs": [
    {
     "data": {
      "text/html": [
       "<div>\n",
       "<style scoped>\n",
       "    .dataframe tbody tr th:only-of-type {\n",
       "        vertical-align: middle;\n",
       "    }\n",
       "\n",
       "    .dataframe tbody tr th {\n",
       "        vertical-align: top;\n",
       "    }\n",
       "\n",
       "    .dataframe thead th {\n",
       "        text-align: right;\n",
       "    }\n",
       "</style>\n",
       "<table border=\"1\" class=\"dataframe\">\n",
       "  <thead>\n",
       "    <tr style=\"text-align: right;\">\n",
       "      <th></th>\n",
       "      <th>name</th>\n",
       "      <th>age</th>\n",
       "      <th>city</th>\n",
       "    </tr>\n",
       "  </thead>\n",
       "  <tbody>\n",
       "    <tr>\n",
       "      <th>0</th>\n",
       "      <td>Alice</td>\n",
       "      <td>25</td>\n",
       "      <td>NYC</td>\n",
       "    </tr>\n",
       "    <tr>\n",
       "      <th>1</th>\n",
       "      <td>Bob</td>\n",
       "      <td>34</td>\n",
       "      <td>LA</td>\n",
       "    </tr>\n",
       "    <tr>\n",
       "      <th>2</th>\n",
       "      <td>Chatlie</td>\n",
       "      <td>30</td>\n",
       "      <td>Chicago</td>\n",
       "    </tr>\n",
       "    <tr>\n",
       "      <th>3</th>\n",
       "      <td>David</td>\n",
       "      <td>49</td>\n",
       "      <td>Hoston</td>\n",
       "    </tr>\n",
       "  </tbody>\n",
       "</table>\n",
       "</div>"
      ],
      "text/plain": [
       "      name  age     city\n",
       "0    Alice   25      NYC\n",
       "1      Bob   34       LA\n",
       "2  Chatlie   30  Chicago\n",
       "3    David   49   Hoston"
      ]
     },
     "execution_count": 30,
     "metadata": {},
     "output_type": "execute_result"
    }
   ],
   "source": [
    "data = [\n",
    "    [\"Alice\",25,\"NYC\"],\n",
    "    [\"Bob\",34,\"LA\"],\n",
    "    [\"Chatlie\",30,\"Chicago\"],\n",
    "    [\"David\",49,\"Hoston\"]\n",
    "]\n",
    "df = pd.DataFrame(data,columns=[\"name\",\"age\",\"city\"])\n",
    "df"
   ]
  },
  {
   "cell_type": "code",
   "execution_count": 31,
   "id": "6c11ca04-bff7-40fa-b9ca-55993daa6e3f",
   "metadata": {},
   "outputs": [
    {
     "name": "stdout",
     "output_type": "stream",
     "text": [
      "     id        first_name    last_name                            email  \\\n",
      "0     1     Ilsa McKinnon     McKinnon               imckinnon0@cmu.edu   \n",
      "1     2  Anabel Atterbury    Atterbury           aatterbury1@paypal.com   \n",
      "2     3       Nappie Yude         Yude               nyude2@twitpic.com   \n",
      "3     4   Derby O'Mahoney    O'Mahoney                domahoney3@qq.com   \n",
      "4     5  Lura MacNaughton  MacNaughton        lmacnaughton4@storify.com   \n",
      "..  ...               ...          ...                              ...   \n",
      "95   96      Fae Fruchter     Fruchter               ffruchter2n@un.org   \n",
      "96   97      Scotti Tiddy        Tiddy  stiddy2o@scientificamerican.com   \n",
      "97   98    Kingsly Upsale       Upsale             kupsale2p@taobao.com   \n",
      "98   99    Irwin Olivazzi     Olivazzi           iolivazzi2q@sphinn.com   \n",
      "99  100    Devy Ratcliffe    Ratcliffe               dratcliffe2r@51.la   \n",
      "\n",
      "     gender  grade  \n",
      "0    Female   5.15  \n",
      "1    Female   4.97  \n",
      "2      Male   1.63  \n",
      "3      Male   9.83  \n",
      "4    Female   4.21  \n",
      "..      ...    ...  \n",
      "95   Female   3.65  \n",
      "96     Male   9.93  \n",
      "97  Agender   8.48  \n",
      "98  Agender   6.17  \n",
      "99     Male   1.38  \n",
      "\n",
      "[100 rows x 6 columns]\n"
     ]
    }
   ],
   "source": [
    "student_data = pd.read_csv('student_data.csv')\n",
    "print(student_data)"
   ]
  },
  {
   "cell_type": "code",
   "execution_count": 32,
   "id": "a0b2277d-5901-4d5d-b2ef-e34620acf1cb",
   "metadata": {},
   "outputs": [
    {
     "data": {
      "text/html": [
       "<div>\n",
       "<style scoped>\n",
       "    .dataframe tbody tr th:only-of-type {\n",
       "        vertical-align: middle;\n",
       "    }\n",
       "\n",
       "    .dataframe tbody tr th {\n",
       "        vertical-align: top;\n",
       "    }\n",
       "\n",
       "    .dataframe thead th {\n",
       "        text-align: right;\n",
       "    }\n",
       "</style>\n",
       "<table border=\"1\" class=\"dataframe\">\n",
       "  <thead>\n",
       "    <tr style=\"text-align: right;\">\n",
       "      <th></th>\n",
       "      <th>id</th>\n",
       "      <th>first_name</th>\n",
       "      <th>last_name</th>\n",
       "      <th>email</th>\n",
       "      <th>gender</th>\n",
       "      <th>grade</th>\n",
       "    </tr>\n",
       "  </thead>\n",
       "  <tbody>\n",
       "    <tr>\n",
       "      <th>0</th>\n",
       "      <td>1</td>\n",
       "      <td>Ilsa McKinnon</td>\n",
       "      <td>McKinnon</td>\n",
       "      <td>imckinnon0@cmu.edu</td>\n",
       "      <td>Female</td>\n",
       "      <td>5.15</td>\n",
       "    </tr>\n",
       "    <tr>\n",
       "      <th>1</th>\n",
       "      <td>2</td>\n",
       "      <td>Anabel Atterbury</td>\n",
       "      <td>Atterbury</td>\n",
       "      <td>aatterbury1@paypal.com</td>\n",
       "      <td>Female</td>\n",
       "      <td>4.97</td>\n",
       "    </tr>\n",
       "    <tr>\n",
       "      <th>2</th>\n",
       "      <td>3</td>\n",
       "      <td>Nappie Yude</td>\n",
       "      <td>Yude</td>\n",
       "      <td>nyude2@twitpic.com</td>\n",
       "      <td>Male</td>\n",
       "      <td>1.63</td>\n",
       "    </tr>\n",
       "    <tr>\n",
       "      <th>3</th>\n",
       "      <td>4</td>\n",
       "      <td>Derby O'Mahoney</td>\n",
       "      <td>O'Mahoney</td>\n",
       "      <td>domahoney3@qq.com</td>\n",
       "      <td>Male</td>\n",
       "      <td>9.83</td>\n",
       "    </tr>\n",
       "    <tr>\n",
       "      <th>4</th>\n",
       "      <td>5</td>\n",
       "      <td>Lura MacNaughton</td>\n",
       "      <td>MacNaughton</td>\n",
       "      <td>lmacnaughton4@storify.com</td>\n",
       "      <td>Female</td>\n",
       "      <td>4.21</td>\n",
       "    </tr>\n",
       "  </tbody>\n",
       "</table>\n",
       "</div>"
      ],
      "text/plain": [
       "   id        first_name    last_name                      email  gender  grade\n",
       "0   1     Ilsa McKinnon     McKinnon         imckinnon0@cmu.edu  Female   5.15\n",
       "1   2  Anabel Atterbury    Atterbury     aatterbury1@paypal.com  Female   4.97\n",
       "2   3       Nappie Yude         Yude         nyude2@twitpic.com    Male   1.63\n",
       "3   4   Derby O'Mahoney    O'Mahoney          domahoney3@qq.com    Male   9.83\n",
       "4   5  Lura MacNaughton  MacNaughton  lmacnaughton4@storify.com  Female   4.21"
      ]
     },
     "execution_count": 32,
     "metadata": {},
     "output_type": "execute_result"
    }
   ],
   "source": [
    "student_data.head()"
   ]
  },
  {
   "cell_type": "code",
   "execution_count": 38,
   "id": "7c1e380c-b963-44bf-84ca-82a5a641e69b",
   "metadata": {},
   "outputs": [
    {
     "name": "stdout",
     "output_type": "stream",
     "text": [
      "     id            first_name    last_name                            email       gender  grade\n",
      "0     1         Ilsa McKinnon     McKinnon               imckinnon0@cmu.edu       Female   5.15\n",
      "1     2      Anabel Atterbury    Atterbury           aatterbury1@paypal.com       Female   4.97\n",
      "2     3           Nappie Yude         Yude               nyude2@twitpic.com         Male   1.63\n",
      "3     4       Derby O'Mahoney    O'Mahoney                domahoney3@qq.com         Male   9.83\n",
      "4     5      Lura MacNaughton  MacNaughton        lmacnaughton4@storify.com       Female   4.21\n",
      "5     6     Eolanda Thomasset    Thomasset   ethomasset5@barnesandnoble.com       Female   8.70\n",
      "6     7         Bendix Pembry       Pembry             bpembry6@cornell.edu         Male   9.82\n",
      "7     8     Marcellina Clemon       Clemon                mclemon7@about.me       Female   5.66\n",
      "8     9           Quinn Falla        Falla                 qfalla8@dell.com         Male   7.01\n",
      "9    10         Aleta Fairlem      Fairlem                afairlem9@nps.gov       Female   2.89\n",
      "10   11         Miner Artharg      Artharg                martharga@nih.gov         Male   1.26\n",
      "11   12        Taryn Skilbeck     Skilbeck            tskilbeckb@devhub.com     Bigender   4.78\n",
      "12   13  Herculie Eixenberger  Eixenberger            heixenbergerc@epa.gov         Male   5.89\n",
      "13   14    Katharine Roggeman     Roggeman          kroggemand@springer.com       Female   1.67\n",
      "14   15          Yanaton Iffe         Iffe                 yiffee@vimeo.com         Male   1.35\n",
      "15   16          Sauncho Real         Real            srealf@prnewswire.com         Male   9.59\n",
      "16   17            Kaye Thick        Thick              kthickg@dropbox.com       Female   5.91\n",
      "17   18      Cacilie Presslee     Presslee             cpressleeh@sogou.com       Female   8.05\n",
      "18   19     Robinson Baptiste     Baptiste           rbaptistei@storify.com         Male   6.52\n",
      "19   20         Freddy Osment       Osment              fosmentj@usnews.com         Male   6.20\n",
      "20   21      Meredith Rudiger      Rudiger        mrudigerk@fastcompany.com      Agender   8.00\n",
      "21   22      Bobbie Laingmaid    Laingmaid               blaingmaidl@ft.com         Male   9.46\n",
      "22   23     Winfred Kolakovic    Kolakovic      wkolakovicm@istockphoto.com         Male   4.61\n",
      "23   24          Shelba Braid        Braid          sbraidn@tripadvisor.com       Female   8.10\n",
      "24   25         Morna Jansema      Jansema        mjansemao@marketwatch.com   Non-binary   9.91\n",
      "25   26         Karel Speller      Speller              kspellerp@house.gov       Female   1.37\n",
      "26   27         Conway Fallon       Fallon            cfallonq@so-net.ne.jp         Male   3.58\n",
      "27   28       Ninette Riddett      Riddett            nriddettr@comcast.net       Female   4.20\n",
      "28   29            Roi Hinsch       Hinsch              rhinschs@uol.com.br         Male   3.36\n",
      "29   30     Frannie Matteuzzi    Matteuzzi        fmatteuzzit@quantcast.com       Female   3.75\n",
      "30   31         Che Bratchell    Bratchell     cbratchellu@reverbnation.com         Male   9.59\n",
      "31   32        Audra Brettell     Brettell               abrettellv@irs.gov       Female   2.97\n",
      "32   33     Jordan Antognelli   Antognelli       jantognelliw@people.com.cn  Genderqueer   8.04\n",
      "33   34        Jeanine McCosh       McCosh         jmccoshx@list-manage.com       Female   5.87\n",
      "34   35        Karyn Klementz     Klementz            kklementzy@netlog.com       Female   1.24\n",
      "35   36      Sheilah Foystone     Foystone          sfoystonez@sakura.ne.jp       Female   8.96\n",
      "36   37            Way Playle       Playle                wplayle10@mapy.cz         Male   4.78\n",
      "37   38    Kippar Kadwallider  Kadwallider        kkadwallider11@paypal.com         Male   6.44\n",
      "38   39         Cindee Freire       Freire          cfreire12@xinhuanet.com       Female   1.65\n",
      "39   40        Reeta Roscrigg     Roscrigg              rroscrigg13@irs.gov       Female   9.36\n",
      "40   41       Berry Colegrove    Colegrove    bcolegrove14@chronoengine.com       Female   9.23\n",
      "41   42        Tasha Frampton     Frampton            tframpton15@jimdo.com  Genderqueer   9.36\n",
      "42   43       Donovan Bezzant      Bezzant           dbezzant16@blogger.com         Male   9.92\n",
      "43   44         Andee Beretta      Beretta         aberetta17@reference.com       Female   1.74\n",
      "44   45       Sheffy Prozillo     Prozillo            sprozillo18@ifeng.com         Male   4.51\n",
      "45   46          Kizzie Keane        Keane           kkeane19@instagram.com       Female   3.71\n",
      "46   47        Carlie Peppard      Peppard          cpeppard1a@mapquest.com         Male   7.68\n",
      "47   48           Gusta Royan        Royan            groyan1b@illinois.edu       Female   2.47\n",
      "48   49             Roy Stodd        Stodd               rstodd1c@salon.com         Male   5.17\n",
      "49   50       Horace Surgenor     Surgenor        hsurgenor1d@amazonaws.com         Male   1.11\n",
      "50   51          Murial Blogg        Blogg         mblogg1e@studiopress.com       Female   4.91\n",
      "51   52        Grissel Lozano       Lozano             glozano1f@senate.gov       Female   7.82\n",
      "52   53     Gilberto Tomasini     Tomasini           gtomasini1g@seesaa.net         Male   1.94\n",
      "53   54       Bertina Iowarch      Iowarch              biowarch1h@yelp.com       Female   5.55\n",
      "54   55   Corinne Tocqueville  Tocqueville        ctocqueville1i@oracle.com  Genderfluid   7.21\n",
      "55   56           Galen Reeks        Reeks               greeks1j@opera.com         Male   3.26\n",
      "56   57       Violette Suttle       Suttle           vsuttle1k@bluehost.com       Female   4.11\n",
      "57   58        Colleen Coates       Coates            ccoates1l@plala.or.jp       Female   8.84\n",
      "58   59           Lydon Swaby        Swaby           lswaby1m@bloomberg.com  Genderfluid   4.42\n",
      "59   60        Daniel Klaiser      Klaiser             dklaiser1n@blogs.com         Male   4.80\n",
      "60   61         Charyl Casine       Casine           ccasine1o@hatena.ne.jp       Female   4.53\n",
      "61   62   Charity MacTurlough  MacTurlough        cmacturlough1p@disqus.com       Female   3.41\n",
      "62   63      Meredith Kaufman      Kaufman             mkaufman1q@google.nl       Female   8.22\n",
      "63   64        Othello Meriot       Meriot             omeriot1r@amazon.com         Male   1.13\n",
      "64   65         Betsey Huonic       Huonic        bhuonic1s@ycombinator.com       Female   7.53\n",
      "65   66     Gavrielle Lamprey      Lamprey     glamprey1t@howstuffworks.com       Female   5.55\n",
      "66   67   Chiquita MacCartair   MacCartair       cmaccartair1u@columbia.edu      Agender   5.98\n",
      "67   68        Lawrence Grace        Grace            lgrace1v@hubpages.com         Male   5.16\n",
      "68   69        Juliane Olivie       Olivie          jolivie1w@quantcast.com       Female   9.70\n",
      "69   70       Nanette Bonifas      Bonifas         nbonifas1x@pinterest.com       Female   9.25\n",
      "70   71         Ardella Boyle        Boyle                 aboyle1y@fc2.com       Female   6.62\n",
      "71   72           Ber Melburg      Melburg          bmelburg1z@yolasite.com         Male   6.64\n",
      "72   73         Christy Drepp        Drepp               cdrepp20@mysql.com       Female   7.49\n",
      "73   74     Remington Boydell      Boydell            rboydell21@netlog.com         Male   8.20\n",
      "74   75      Rutger Gallymore    Gallymore            rgallymore22@usda.gov         Male   9.88\n",
      "75   76          Alis Lindsey      Lindsey               alindsey23@ftc.gov       Female   4.01\n",
      "76   77      Amalle Burmaster    Burmaster      aburmaster24@vistaprint.com      Agender   3.62\n",
      "77   78        Alonzo Birtles      Birtles           abirtles25@samsung.com         Male   3.18\n",
      "78   79       Barbara Edgeler      Edgeler         bedgeler26@tuttocitta.it       Female   9.75\n",
      "79   80     Alasdair Spancock     Spancock             aspancock27@etsy.com         Male   9.99\n",
      "80   81        Marylou Moxley       Moxley       mmoxley28@wunderground.com       Female   9.94\n",
      "81   82       Ario Stanbridge   Stanbridge     astanbridge29@thetimes.co.uk         Male   7.29\n",
      "82   83      Sebastiano Camis        Camis               scamis2a@google.de         Male   9.07\n",
      "83   84       Vidovic Chstney      Chstney           vchstney2b@answers.com         Male   5.73\n",
      "84   85        Dorrie Nijssen      Nijssen            dnijssen2c@dyndns.org       Female   9.54\n",
      "85   86     Marjory Parkhouse    Parkhouse            mparkhouse2d@sohu.com       Female   8.32\n",
      "86   87           Athena Nuss         Nuss           anuss2e@altervista.org       Female   6.86\n",
      "87   88       Rriocard Kearey       Kearey                rkearey2f@ftc.gov         Male   6.15\n",
      "88   89       Margaux Peskett      Peskett              mpeskett2g@admin.ch       Female   4.22\n",
      "89   90       Avigdor Christy      Christy         achristy2h@amazonaws.com         Male   4.51\n",
      "90   91        Theodore Haime        Haime             thaime2i@arizona.edu         Male   3.10\n",
      "91   92           Hally Jordi        Jordi           hjordi2j@posterous.com       Female   5.00\n",
      "92   93    Jackqueline Galier       Galier           jgalier2k@redcross.org       Female   5.94\n",
      "93   94        Derron Handlin      Handlin         dhandlin2l@over-blog.com         Male   4.51\n",
      "94   95         Atlante Lusty        Lusty                  alusty2m@go.com     Bigender   3.91\n",
      "95   96          Fae Fruchter     Fruchter               ffruchter2n@un.org       Female   3.65\n",
      "96   97          Scotti Tiddy        Tiddy  stiddy2o@scientificamerican.com         Male   9.93\n",
      "97   98        Kingsly Upsale       Upsale             kupsale2p@taobao.com      Agender   8.48\n",
      "98   99        Irwin Olivazzi     Olivazzi           iolivazzi2q@sphinn.com      Agender   6.17\n",
      "99  100        Devy Ratcliffe    Ratcliffe               dratcliffe2r@51.la         Male   1.38\n"
     ]
    }
   ],
   "source": [
    "print(student_data.to_string())"
   ]
  },
  {
   "cell_type": "code",
   "execution_count": 41,
   "id": "76597fbe-cf9e-41eb-9c74-f49491475379",
   "metadata": {},
   "outputs": [
    {
     "data": {
      "text/html": [
       "<div>\n",
       "<style scoped>\n",
       "    .dataframe tbody tr th:only-of-type {\n",
       "        vertical-align: middle;\n",
       "    }\n",
       "\n",
       "    .dataframe tbody tr th {\n",
       "        vertical-align: top;\n",
       "    }\n",
       "\n",
       "    .dataframe thead th {\n",
       "        text-align: right;\n",
       "    }\n",
       "</style>\n",
       "<table border=\"1\" class=\"dataframe\">\n",
       "  <thead>\n",
       "    <tr style=\"text-align: right;\">\n",
       "      <th></th>\n",
       "      <th>id</th>\n",
       "      <th>first_name</th>\n",
       "      <th>last_name</th>\n",
       "      <th>email</th>\n",
       "      <th>gender</th>\n",
       "      <th>grade</th>\n",
       "    </tr>\n",
       "  </thead>\n",
       "  <tbody>\n",
       "    <tr>\n",
       "      <th>0</th>\n",
       "      <td>1</td>\n",
       "      <td>Ilsa McKinnon</td>\n",
       "      <td>McKinnon</td>\n",
       "      <td>imckinnon0@cmu.edu</td>\n",
       "      <td>Female</td>\n",
       "      <td>5.15</td>\n",
       "    </tr>\n",
       "    <tr>\n",
       "      <th>1</th>\n",
       "      <td>2</td>\n",
       "      <td>Anabel Atterbury</td>\n",
       "      <td>Atterbury</td>\n",
       "      <td>aatterbury1@paypal.com</td>\n",
       "      <td>Female</td>\n",
       "      <td>4.97</td>\n",
       "    </tr>\n",
       "    <tr>\n",
       "      <th>2</th>\n",
       "      <td>3</td>\n",
       "      <td>Nappie Yude</td>\n",
       "      <td>Yude</td>\n",
       "      <td>nyude2@twitpic.com</td>\n",
       "      <td>Male</td>\n",
       "      <td>1.63</td>\n",
       "    </tr>\n",
       "  </tbody>\n",
       "</table>\n",
       "</div>"
      ],
      "text/plain": [
       "   id        first_name  last_name                   email  gender  grade\n",
       "0   1     Ilsa McKinnon   McKinnon      imckinnon0@cmu.edu  Female   5.15\n",
       "1   2  Anabel Atterbury  Atterbury  aatterbury1@paypal.com  Female   4.97\n",
       "2   3       Nappie Yude       Yude      nyude2@twitpic.com    Male   1.63"
      ]
     },
     "execution_count": 41,
     "metadata": {},
     "output_type": "execute_result"
    }
   ],
   "source": [
    "student_data.head(3) #first 3 rows"
   ]
  },
  {
   "cell_type": "code",
   "execution_count": 42,
   "id": "ddc1e42d-d914-4bb2-864c-6368282bf3fc",
   "metadata": {},
   "outputs": [
    {
     "data": {
      "text/html": [
       "<div>\n",
       "<style scoped>\n",
       "    .dataframe tbody tr th:only-of-type {\n",
       "        vertical-align: middle;\n",
       "    }\n",
       "\n",
       "    .dataframe tbody tr th {\n",
       "        vertical-align: top;\n",
       "    }\n",
       "\n",
       "    .dataframe thead th {\n",
       "        text-align: right;\n",
       "    }\n",
       "</style>\n",
       "<table border=\"1\" class=\"dataframe\">\n",
       "  <thead>\n",
       "    <tr style=\"text-align: right;\">\n",
       "      <th></th>\n",
       "      <th>id</th>\n",
       "      <th>first_name</th>\n",
       "      <th>last_name</th>\n",
       "      <th>email</th>\n",
       "      <th>gender</th>\n",
       "      <th>grade</th>\n",
       "    </tr>\n",
       "  </thead>\n",
       "  <tbody>\n",
       "    <tr>\n",
       "      <th>97</th>\n",
       "      <td>98</td>\n",
       "      <td>Kingsly Upsale</td>\n",
       "      <td>Upsale</td>\n",
       "      <td>kupsale2p@taobao.com</td>\n",
       "      <td>Agender</td>\n",
       "      <td>8.48</td>\n",
       "    </tr>\n",
       "    <tr>\n",
       "      <th>98</th>\n",
       "      <td>99</td>\n",
       "      <td>Irwin Olivazzi</td>\n",
       "      <td>Olivazzi</td>\n",
       "      <td>iolivazzi2q@sphinn.com</td>\n",
       "      <td>Agender</td>\n",
       "      <td>6.17</td>\n",
       "    </tr>\n",
       "    <tr>\n",
       "      <th>99</th>\n",
       "      <td>100</td>\n",
       "      <td>Devy Ratcliffe</td>\n",
       "      <td>Ratcliffe</td>\n",
       "      <td>dratcliffe2r@51.la</td>\n",
       "      <td>Male</td>\n",
       "      <td>1.38</td>\n",
       "    </tr>\n",
       "  </tbody>\n",
       "</table>\n",
       "</div>"
      ],
      "text/plain": [
       "     id      first_name  last_name                   email   gender  grade\n",
       "97   98  Kingsly Upsale     Upsale    kupsale2p@taobao.com  Agender   8.48\n",
       "98   99  Irwin Olivazzi   Olivazzi  iolivazzi2q@sphinn.com  Agender   6.17\n",
       "99  100  Devy Ratcliffe  Ratcliffe      dratcliffe2r@51.la     Male   1.38"
      ]
     },
     "execution_count": 42,
     "metadata": {},
     "output_type": "execute_result"
    }
   ],
   "source": [
    "student_data.tail(3)"
   ]
  },
  {
   "cell_type": "code",
   "execution_count": 43,
   "id": "998fa9f7-7d44-4432-a56b-58eb3ebc828b",
   "metadata": {},
   "outputs": [
    {
     "data": {
      "text/plain": [
       "(100, 6)"
      ]
     },
     "execution_count": 43,
     "metadata": {},
     "output_type": "execute_result"
    }
   ],
   "source": [
    "# number of rows and column\n",
    "student_data.shape"
   ]
  },
  {
   "cell_type": "code",
   "execution_count": 46,
   "id": "3fc5fa81-b3e2-4057-b5a2-001836f9a555",
   "metadata": {},
   "outputs": [
    {
     "name": "stdout",
     "output_type": "stream",
     "text": [
      "<class 'pandas.core.frame.DataFrame'>\n",
      "RangeIndex: 100 entries, 0 to 99\n",
      "Data columns (total 6 columns):\n",
      " #   Column      Non-Null Count  Dtype  \n",
      "---  ------      --------------  -----  \n",
      " 0   id          100 non-null    int64  \n",
      " 1   first_name  100 non-null    object \n",
      " 2   last_name   100 non-null    object \n",
      " 3   email       100 non-null    object \n",
      " 4   gender      100 non-null    object \n",
      " 5   grade       100 non-null    float64\n",
      "dtypes: float64(1), int64(1), object(4)\n",
      "memory usage: 4.8+ KB\n"
     ]
    }
   ],
   "source": [
    "student_data.info()"
   ]
  },
  {
   "cell_type": "code",
   "execution_count": 51,
   "id": "9aaf5b01-1b3e-4968-b765-970d4505d532",
   "metadata": {},
   "outputs": [
    {
     "data": {
      "text/html": [
       "<div>\n",
       "<style scoped>\n",
       "    .dataframe tbody tr th:only-of-type {\n",
       "        vertical-align: middle;\n",
       "    }\n",
       "\n",
       "    .dataframe tbody tr th {\n",
       "        vertical-align: top;\n",
       "    }\n",
       "\n",
       "    .dataframe thead th {\n",
       "        text-align: right;\n",
       "    }\n",
       "</style>\n",
       "<table border=\"1\" class=\"dataframe\">\n",
       "  <thead>\n",
       "    <tr style=\"text-align: right;\">\n",
       "      <th></th>\n",
       "      <th>id</th>\n",
       "      <th>grade</th>\n",
       "    </tr>\n",
       "  </thead>\n",
       "  <tbody>\n",
       "    <tr>\n",
       "      <th>count</th>\n",
       "      <td>100.000000</td>\n",
       "      <td>100.000000</td>\n",
       "    </tr>\n",
       "    <tr>\n",
       "      <th>mean</th>\n",
       "      <td>50.500000</td>\n",
       "      <td>5.876300</td>\n",
       "    </tr>\n",
       "    <tr>\n",
       "      <th>std</th>\n",
       "      <td>29.011492</td>\n",
       "      <td>2.697613</td>\n",
       "    </tr>\n",
       "    <tr>\n",
       "      <th>min</th>\n",
       "      <td>1.000000</td>\n",
       "      <td>1.110000</td>\n",
       "    </tr>\n",
       "    <tr>\n",
       "      <th>25%</th>\n",
       "      <td>25.750000</td>\n",
       "      <td>3.870000</td>\n",
       "    </tr>\n",
       "    <tr>\n",
       "      <th>50%</th>\n",
       "      <td>50.500000</td>\n",
       "      <td>5.800000</td>\n",
       "    </tr>\n",
       "    <tr>\n",
       "      <th>75%</th>\n",
       "      <td>75.250000</td>\n",
       "      <td>8.205000</td>\n",
       "    </tr>\n",
       "    <tr>\n",
       "      <th>max</th>\n",
       "      <td>100.000000</td>\n",
       "      <td>9.990000</td>\n",
       "    </tr>\n",
       "  </tbody>\n",
       "</table>\n",
       "</div>"
      ],
      "text/plain": [
       "               id       grade\n",
       "count  100.000000  100.000000\n",
       "mean    50.500000    5.876300\n",
       "std     29.011492    2.697613\n",
       "min      1.000000    1.110000\n",
       "25%     25.750000    3.870000\n",
       "50%     50.500000    5.800000\n",
       "75%     75.250000    8.205000\n",
       "max    100.000000    9.990000"
      ]
     },
     "execution_count": 51,
     "metadata": {},
     "output_type": "execute_result"
    }
   ],
   "source": [
    "student_data.describe()"
   ]
  },
  {
   "cell_type": "code",
   "execution_count": 53,
   "id": "4fa5a26a-c927-4144-892d-69587112f0b8",
   "metadata": {},
   "outputs": [
    {
     "data": {
      "text/html": [
       "<div>\n",
       "<style scoped>\n",
       "    .dataframe tbody tr th:only-of-type {\n",
       "        vertical-align: middle;\n",
       "    }\n",
       "\n",
       "    .dataframe tbody tr th {\n",
       "        vertical-align: top;\n",
       "    }\n",
       "\n",
       "    .dataframe thead th {\n",
       "        text-align: right;\n",
       "    }\n",
       "</style>\n",
       "<table border=\"1\" class=\"dataframe\">\n",
       "  <thead>\n",
       "    <tr style=\"text-align: right;\">\n",
       "      <th></th>\n",
       "      <th>id</th>\n",
       "      <th>grade</th>\n",
       "    </tr>\n",
       "  </thead>\n",
       "  <tbody>\n",
       "    <tr>\n",
       "      <th>0</th>\n",
       "      <td>1</td>\n",
       "      <td>5.15</td>\n",
       "    </tr>\n",
       "    <tr>\n",
       "      <th>1</th>\n",
       "      <td>2</td>\n",
       "      <td>4.97</td>\n",
       "    </tr>\n",
       "    <tr>\n",
       "      <th>2</th>\n",
       "      <td>3</td>\n",
       "      <td>1.63</td>\n",
       "    </tr>\n",
       "    <tr>\n",
       "      <th>3</th>\n",
       "      <td>4</td>\n",
       "      <td>9.83</td>\n",
       "    </tr>\n",
       "    <tr>\n",
       "      <th>4</th>\n",
       "      <td>5</td>\n",
       "      <td>4.21</td>\n",
       "    </tr>\n",
       "  </tbody>\n",
       "</table>\n",
       "</div>"
      ],
      "text/plain": [
       "   id  grade\n",
       "0   1   5.15\n",
       "1   2   4.97\n",
       "2   3   1.63\n",
       "3   4   9.83\n",
       "4   5   4.21"
      ]
     },
     "execution_count": 53,
     "metadata": {},
     "output_type": "execute_result"
    }
   ],
   "source": [
    "student_data[['id','grade']].head()"
   ]
  },
  {
   "cell_type": "code",
   "execution_count": 55,
   "id": "cb3717e7-3dce-4736-9e22-7352adc659c7",
   "metadata": {},
   "outputs": [
    {
     "data": {
      "text/plain": [
       "count    100.000000\n",
       "mean       5.876300\n",
       "std        2.697613\n",
       "min        1.110000\n",
       "25%        3.870000\n",
       "50%        5.800000\n",
       "75%        8.205000\n",
       "max        9.990000\n",
       "Name: grade, dtype: float64"
      ]
     },
     "execution_count": 55,
     "metadata": {},
     "output_type": "execute_result"
    }
   ],
   "source": [
    "student_data['grade'].describe()"
   ]
  },
  {
   "cell_type": "code",
   "execution_count": null,
   "id": "07d48996-c424-4a99-b9f7-c16d694c2b8d",
   "metadata": {},
   "outputs": [],
   "source": []
  }
 ],
 "metadata": {
  "kernelspec": {
   "display_name": "Python 3 (ipykernel)",
   "language": "python",
   "name": "python3"
  },
  "language_info": {
   "codemirror_mode": {
    "name": "ipython",
    "version": 3
   },
   "file_extension": ".py",
   "mimetype": "text/x-python",
   "name": "python",
   "nbconvert_exporter": "python",
   "pygments_lexer": "ipython3",
   "version": "3.13.2"
  }
 },
 "nbformat": 4,
 "nbformat_minor": 5
}
